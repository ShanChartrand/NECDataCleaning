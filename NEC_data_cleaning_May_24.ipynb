{
  "nbformat": 4,
  "nbformat_minor": 0,
  "metadata": {
    "colab": {
      "provenance": [],
      "authorship_tag": "ABX9TyNawKZdqEbjwUlKgDZ3oXrI",
      "include_colab_link": true
    },
    "kernelspec": {
      "name": "python3",
      "display_name": "Python 3"
    },
    "language_info": {
      "name": "python"
    }
  },
  "cells": [
    {
      "cell_type": "markdown",
      "metadata": {
        "id": "view-in-github",
        "colab_type": "text"
      },
      "source": [
        "<a href=\"https://colab.research.google.com/github/ShanChartrand/NECDataCleaning/blob/main/NEC_data_cleaning_May_24.ipynb\" target=\"_parent\"><img src=\"https://colab.research.google.com/assets/colab-badge.svg\" alt=\"Open In Colab\"/></a>"
      ]
    },
    {
      "cell_type": "markdown",
      "source": [
        "Importing file"
      ],
      "metadata": {
        "id": "uKkz5esNBd65"
      }
    },
    {
      "cell_type": "code",
      "execution_count": null,
      "metadata": {
        "colab": {
          "base_uri": "https://localhost:8080/"
        },
        "id": "4d2va8Sp-3Z3",
        "outputId": "3df86236-0d2b-4afe-dd22-ab4cf2725d41"
      },
      "outputs": [
        {
          "output_type": "stream",
          "name": "stdout",
          "text": [
            "Looking in indexes: https://pypi.org/simple, https://us-python.pkg.dev/colab-wheels/public/simple/\n",
            "Requirement already satisfied: pandas in /usr/local/lib/python3.10/dist-packages (1.5.3)\n",
            "Requirement already satisfied: python-dateutil>=2.8.1 in /usr/local/lib/python3.10/dist-packages (from pandas) (2.8.2)\n",
            "Requirement already satisfied: pytz>=2020.1 in /usr/local/lib/python3.10/dist-packages (from pandas) (2022.7.1)\n",
            "Requirement already satisfied: numpy>=1.21.0 in /usr/local/lib/python3.10/dist-packages (from pandas) (1.22.4)\n",
            "Requirement already satisfied: six>=1.5 in /usr/local/lib/python3.10/dist-packages (from python-dateutil>=2.8.1->pandas) (1.16.0)\n"
          ]
        }
      ],
      "source": [
        "!pip install pandas\n",
        "import pandas as pd\n",
        "df = pd.read_csv('https://raw.githubusercontent.com/ShanChartrand/NECDataCleaning/main/necoriginal.csv')\n"
      ]
    },
    {
      "cell_type": "markdown",
      "source": [
        "Importing libraries"
      ],
      "metadata": {
        "id": "gKAL2FHzBa8o"
      }
    },
    {
      "cell_type": "code",
      "source": [
        "import pandas as pd\n",
        "import numpy as np\n",
        "import matplotlib.pyplot as plt\n",
        "import io\n",
        "import requests"
      ],
      "metadata": {
        "id": "yb7N0MYp-a8P"
      },
      "execution_count": null,
      "outputs": []
    },
    {
      "cell_type": "markdown",
      "source": [
        "Viewing original number of rows and columns"
      ],
      "metadata": {
        "id": "_k9UqAY5BhhO"
      }
    },
    {
      "cell_type": "code",
      "source": [
        "# Count the number of rows and columns\n",
        "num_rows = df.shape[0]\n",
        "num_columns = df.shape[1]\n",
        "\n",
        "# Print the results\n",
        "print(\"Number of rows:\", num_rows)\n",
        "print(\"Number of columns:\", num_columns)"
      ],
      "metadata": {
        "id": "9MFM6R7IAWQ1",
        "outputId": "2918f5a8-a59e-4567-cfba-10bf3d3be21d",
        "colab": {
          "base_uri": "https://localhost:8080/"
        }
      },
      "execution_count": null,
      "outputs": [
        {
          "output_type": "stream",
          "name": "stdout",
          "text": [
            "Number of rows: 19928\n",
            "Number of columns: 31\n"
          ]
        }
      ]
    },
    {
      "cell_type": "markdown",
      "source": [
        "Removing rows 2-8064, before metrics such as Jitter, Latency, and Packet loss were reliably measured"
      ],
      "metadata": {
        "id": "sgcjiF1_BmnV"
      }
    },
    {
      "cell_type": "code",
      "source": [
        "# Read the CSV file\n",
        "df = pd.read_csv('https://raw.githubusercontent.com/ShanChartrand/NECDataCleaning/main/necoriginal.csv')\n",
        "\n",
        "# Remove rows 2 through 8064\n",
        "df.drop(df.index[1:8064], inplace=True)\n",
        "\n",
        "# Save the updated DataFrame \n",
        "df.to_csv('https://raw.githubusercontent.com/ShanChartrand/NECDataCleaning/main/necoriginal.csv', index=False)"
      ],
      "metadata": {
        "id": "Tv6iMA-h-dzN"
      },
      "execution_count": null,
      "outputs": []
    },
    {
      "cell_type": "markdown",
      "source": [
        "Counting the new number of rows & columns after removing rows 2-8064"
      ],
      "metadata": {
        "id": "_N_k_iK7B01D"
      }
    },
    {
      "cell_type": "code",
      "source": [
        "# Count the number of rows and columns\n",
        "num_rows = df.shape[0]\n",
        "num_columns = df.shape[1]\n",
        "\n",
        "# Print the results\n",
        "print(\"Number of rows:\", num_rows)\n",
        "print(\"Number of columns:\", num_columns)"
      ],
      "metadata": {
        "id": "pFqF4As7AIfA",
        "outputId": "df1aa2e9-076e-4dac-f5f9-57d595ff103e",
        "colab": {
          "base_uri": "https://localhost:8080/"
        }
      },
      "execution_count": null,
      "outputs": [
        {
          "output_type": "stream",
          "name": "stdout",
          "text": [
            "Number of rows: 11865\n",
            "Number of columns: 31\n"
          ]
        }
      ]
    },
    {
      "cell_type": "markdown",
      "source": [
        "Looking at the % of missing items in columns"
      ],
      "metadata": {
        "id": "4rhiwK5PCASX"
      }
    },
    {
      "cell_type": "code",
      "source": [
        "# Calculate the percentage of missing cells in each column\n",
        "missing_percentages = df.isna().sum() / len(df) * 100\n",
        "\n",
        "# Print the result\n",
        "print(missing_percentages)"
      ],
      "metadata": {
        "id": "V_tb7hE1CMox",
        "outputId": "bb927f47-ebc3-4243-86e9-fe8895eead2d",
        "colab": {
          "base_uri": "https://localhost:8080/"
        }
      },
      "execution_count": null,
      "outputs": [
        {
          "output_type": "stream",
          "name": "stdout",
          "text": [
            "TEST ID                       0.000000\n",
            "TEST DATE / UTC HOUR          0.000000\n",
            "GEO LATITUDE                  0.000000\n",
            "GEO LONGITUDE                 0.000000\n",
            "DOWNLOAD SPEED                0.000000\n",
            "UPLOAD SPEED                  0.000000\n",
            "JITTER                        0.008428\n",
            "LATENCY                       0.008428\n",
            "PACKET LOSS                   0.008428\n",
            "MOBILE TEST                   0.000000\n",
            "ISP                           0.000000\n",
            "CLIENT IP                     0.000000\n",
            "CLIENT CITY                   0.000000\n",
            "CLIENT PROVINCE               0.000000\n",
            "CLIENT POSTAL CODE            0.000000\n",
            "AS NUMBER                     0.008428\n",
            "IPV6 SUPPORTED                0.000000\n",
            "DNSSEC SUPPORTED              0.000000\n",
            "TEST SERVER                   0.000000\n",
            "browser_test_url              0.008428\n",
            "CONTRACTED DOWNLOAD SPEED    75.347661\n",
            "CONTRACTED UPLOAD SPEED      80.311842\n",
            "CONTRACTED DATA CAP          87.265065\n",
            "CONTRACTED MONTHLY COST      79.241466\n",
            "SERVICE TYPE                 73.881163\n",
            "USER SATISFACTION            77.800253\n",
            "CONNECTION TYPE              87.155499\n",
            "USER COMMENTS                68.942267\n",
            "HEATMAP_MUNICIPALITY          0.000000\n",
            "HEATMAP_CENSUS_TRACTS         0.000000\n",
            "HEATMAP_PROJECT_AREA         94.757691\n",
            "dtype: float64\n"
          ]
        }
      ]
    },
    {
      "cell_type": "markdown",
      "source": [
        "Removing columns with greater than 68% missing values, and then listing the remaining number of rows & columns"
      ],
      "metadata": {
        "id": "RRY0OXMUCXve"
      }
    },
    {
      "cell_type": "code",
      "source": [
        "# List of columns to remove\n",
        "columns_to_remove = [\n",
        "    'CONTRACTED DOWNLOAD SPEED',\n",
        "    'CONTRACTED UPLOAD SPEED',\n",
        "    'CONTRACTED DATA CAP',\n",
        "    'CONTRACTED MONTHLY COST',\n",
        "    'SERVICE TYPE',\n",
        "    'USER SATISFACTION',\n",
        "    'CONNECTION TYPE',\n",
        "    'USER COMMENTS',\n",
        "    'HEATMAP_PROJECT_AREA'\n",
        "]\n",
        "\n",
        "# Remove the columns\n",
        "df.drop(columns=columns_to_remove, inplace=True)\n",
        "\n",
        "# Save the updated DataFrame \n",
        "df.to_csv('https://raw.githubusercontent.com/ShanChartrand/NECDataCleaning/main/necoriginal.csv', index=False)\n",
        "\n",
        "# Count the number of rows and columns\n",
        "num_rows = df.shape[0]\n",
        "num_columns = df.shape[1]\n",
        "\n",
        "# Print the results\n",
        "print(\"Number of rows:\", num_rows)\n",
        "print(\"Number of columns:\", num_columns)"
      ],
      "metadata": {
        "id": "EyOhZspYCnxg",
        "outputId": "0d787eb9-2972-489d-c0bb-f05ada520308",
        "colab": {
          "base_uri": "https://localhost:8080/"
        }
      },
      "execution_count": null,
      "outputs": [
        {
          "output_type": "stream",
          "name": "stdout",
          "text": [
            "Number of rows: 11865\n",
            "Number of columns: 22\n"
          ]
        }
      ]
    },
    {
      "cell_type": "markdown",
      "source": [
        "Checking for duplicates in the TEST ID column"
      ],
      "metadata": {
        "id": "wKb1PmM0ggkU"
      }
    },
    {
      "cell_type": "code",
      "source": [
        "# Count the number of duplicated TEST ID values\n",
        "num_duplicates = df.duplicated(subset='TEST ID', keep=False).sum()\n",
        "\n",
        "# Print the number of duplicates\n",
        "print(f\"There are {num_duplicates} rows with duplicated TEST ID values.\")"
      ],
      "metadata": {
        "colab": {
          "base_uri": "https://localhost:8080/"
        },
        "id": "ez24zJwZgaaP",
        "outputId": "36cd0bb2-9cd8-4163-b881-f60e867e9d1c"
      },
      "execution_count": null,
      "outputs": [
        {
          "output_type": "stream",
          "name": "stdout",
          "text": [
            "There are 0 rows with duplicated TEST ID values.\n"
          ]
        }
      ]
    },
    {
      "cell_type": "markdown",
      "source": [
        "Looking for duplicate rows"
      ],
      "metadata": {
        "id": "CTa358_gyxKg"
      }
    },
    {
      "cell_type": "code",
      "source": [
        "# Find duplicate rows based on all columns\n",
        "duplicates = df[df.duplicated()]\n",
        "\n",
        "# Display the duplicate rows (if any)\n",
        "if len(duplicates) > 0:\n",
        "    print(f\"Found {len(duplicates)} duplicate rows:\")\n",
        "    print(duplicates)\n",
        "else:\n",
        "    print(\"No duplicate rows found.\")"
      ],
      "metadata": {
        "colab": {
          "base_uri": "https://localhost:8080/"
        },
        "id": "RBy34o8zyrO9",
        "outputId": "8d5d2ad3-d236-4b5b-8b28-2df37fa023b5"
      },
      "execution_count": null,
      "outputs": [
        {
          "output_type": "stream",
          "name": "stdout",
          "text": [
            "No duplicate rows found.\n"
          ]
        }
      ]
    },
    {
      "cell_type": "markdown",
      "source": [
        "Looking at the % of missing items in columns"
      ],
      "metadata": {
        "id": "UNPprN4NEzTp"
      }
    },
    {
      "cell_type": "code",
      "source": [
        "# Calculate the percentage of missing cells in each column\n",
        "missing_percentages = df.isna().sum() / len(df) * 100\n",
        "\n",
        "# Print the result\n",
        "print(missing_percentages)"
      ],
      "metadata": {
        "id": "cef99s21E8rf",
        "outputId": "07f1304c-6376-4858-8513-c3840d248205",
        "colab": {
          "base_uri": "https://localhost:8080/"
        }
      },
      "execution_count": null,
      "outputs": [
        {
          "output_type": "stream",
          "name": "stdout",
          "text": [
            "TEST ID                  0.000000\n",
            "TEST DATE / UTC HOUR     0.000000\n",
            "GEO LATITUDE             0.000000\n",
            "GEO LONGITUDE            0.000000\n",
            "DOWNLOAD SPEED           0.000000\n",
            "UPLOAD SPEED             0.000000\n",
            "JITTER                   0.008428\n",
            "LATENCY                  0.008428\n",
            "PACKET LOSS              0.008428\n",
            "MOBILE TEST              0.000000\n",
            "ISP                      0.000000\n",
            "CLIENT IP                0.000000\n",
            "CLIENT CITY              0.000000\n",
            "CLIENT PROVINCE          0.000000\n",
            "CLIENT POSTAL CODE       0.000000\n",
            "AS NUMBER                0.008428\n",
            "IPV6 SUPPORTED           0.000000\n",
            "DNSSEC SUPPORTED         0.000000\n",
            "TEST SERVER              0.000000\n",
            "browser_test_url         0.008428\n",
            "HEATMAP_MUNICIPALITY     0.000000\n",
            "HEATMAP_CENSUS_TRACTS    0.000000\n",
            "dtype: float64\n"
          ]
        }
      ]
    },
    {
      "cell_type": "markdown",
      "source": [
        "As per above, we can see that the columns that have missing items each have exactly 0.008428%, which indicates there was a test interruption or failure with CIRA. Will remove those rows then confirm the % of missing items per column."
      ],
      "metadata": {
        "id": "bNl5JALNFTo4"
      }
    },
    {
      "cell_type": "code",
      "source": [
        "# List of columns to check for missing values\n",
        "columns_to_check = ['JITTER', 'LATENCY', 'PACKET LOSS', 'AS NUMBER', 'browser_test_url']\n",
        "\n",
        "# Remove rows with missing values in specified columns\n",
        "df.dropna(subset=columns_to_check, inplace=True)\n",
        "\n",
        "# Save the updated DataFrame \n",
        "df.to_csv('https://raw.githubusercontent.com/ShanChartrand/NECDataCleaning/main/necoriginal.csv', index=False)\n",
        "\n",
        "# Calculate the percentage of missing cells in each column\n",
        "missing_percentages = df.isna().sum() / len(df) * 100\n",
        "\n",
        "# Print the result\n",
        "print(missing_percentages)"
      ],
      "metadata": {
        "id": "am8M2ZF-HlEC",
        "outputId": "dd80a172-5603-4a14-93cb-6d8c770d6b0d",
        "colab": {
          "base_uri": "https://localhost:8080/"
        }
      },
      "execution_count": null,
      "outputs": [
        {
          "output_type": "stream",
          "name": "stdout",
          "text": [
            "TEST ID                  0.0\n",
            "TEST DATE / UTC HOUR     0.0\n",
            "GEO LATITUDE             0.0\n",
            "GEO LONGITUDE            0.0\n",
            "DOWNLOAD SPEED           0.0\n",
            "UPLOAD SPEED             0.0\n",
            "JITTER                   0.0\n",
            "LATENCY                  0.0\n",
            "PACKET LOSS              0.0\n",
            "MOBILE TEST              0.0\n",
            "ISP                      0.0\n",
            "CLIENT IP                0.0\n",
            "CLIENT CITY              0.0\n",
            "CLIENT PROVINCE          0.0\n",
            "CLIENT POSTAL CODE       0.0\n",
            "AS NUMBER                0.0\n",
            "IPV6 SUPPORTED           0.0\n",
            "DNSSEC SUPPORTED         0.0\n",
            "TEST SERVER              0.0\n",
            "browser_test_url         0.0\n",
            "HEATMAP_MUNICIPALITY     0.0\n",
            "HEATMAP_CENSUS_TRACTS    0.0\n",
            "dtype: float64\n"
          ]
        }
      ]
    },
    {
      "cell_type": "markdown",
      "source": [
        "We had 11865 rows, let's see how many were removed"
      ],
      "metadata": {
        "id": "too27sBlH1j0"
      }
    },
    {
      "cell_type": "code",
      "source": [
        "# Count the number of rows\n",
        "num_rows = df.shape[0]\n",
        "\n",
        "# Print the results\n",
        "print(\"Number of rows:\", num_rows)"
      ],
      "metadata": {
        "id": "vHKkpYtgIF_w",
        "outputId": "1d3784dc-95e5-48ed-c81f-b52ea41eccc0",
        "colab": {
          "base_uri": "https://localhost:8080/"
        }
      },
      "execution_count": null,
      "outputs": [
        {
          "output_type": "stream",
          "name": "stdout",
          "text": [
            "Number of rows: 11863\n"
          ]
        }
      ]
    },
    {
      "cell_type": "markdown",
      "source": [
        "We can see that only 2 rows were removed. Now to determine the # of unique ISPs"
      ],
      "metadata": {
        "id": "T1clT4QYIMnb"
      }
    },
    {
      "cell_type": "code",
      "source": [
        "unique_isp_count = len(df['ISP'].unique())\n",
        "print(\"Number of unique ISPs:\", unique_isp_count)"
      ],
      "metadata": {
        "id": "nxVw-HsSrXEN",
        "outputId": "10d137a8-ef09-422b-a0c5-ff28f07172e4",
        "colab": {
          "base_uri": "https://localhost:8080/"
        }
      },
      "execution_count": null,
      "outputs": [
        {
          "output_type": "stream",
          "name": "stdout",
          "text": [
            "Number of unique ISPs: 84\n"
          ]
        }
      ]
    },
    {
      "cell_type": "markdown",
      "source": [
        "Now we must standardize the ISPs and then count the # of unique ISPs after standardizatioin\n",
        "\n"
      ],
      "metadata": {
        "id": "qMdeP1snrX_0"
      }
    },
    {
      "cell_type": "code",
      "source": [
        "def standardize_isp(isp):\n",
        "    replacements = {\n",
        "        \"Access Communications  Co-operative Limited\": \"Access Communications Co-operative Limited\",\n",
        "        \"Amanah Tech\": \"Amanah Tech Inc.\",\n",
        "        \"Amazon.com, Inc.\": \"Amazon Technologies Inc.\",\n",
        "        \"Bell MTS\": \"Bell Canada\",\n",
        "        \"Bell Mobility\": \"Bell Canada\",\n",
        "        \"Bell Mobility, Inc.\": \"Bell Canada\",\n",
        "        \"Bell MTS Data Centres G.P\": \"Bell Canada\",\n",
        "        \"CIK Telecom\": \"CIK Telecom INC\",\n",
        "        \"Commstream Communications\": \"Commstream Communications Inc\",\n",
        "        \"Corridor Communications, INC.\": \"Corridor Communications\",\n",
        "        \"Manitoba First Nations Education Resource Centre Inc.\": \"Manitoba First Nations Education Resource Centre\",\n",
        "        \"Manitoba Hydro International LTD\": \"Manitoba Hydro\",\n",
        "        \"Manitoba Hydro Telecom\": \"Manitoba Hydro\",\n",
        "        \"MTS Allstream\": \"MTS Inc.\",\n",
        "        \"MTS Inc\": \"MTS Inc.\",\n",
        "        \"MTS Allstream Inc.\": \"MTS Inc.\",\n",
        "        \"MTS Data Centres\": \"MTS Inc.\",\n",
        "        \"Red River College of Applied Arts\": \"Red River College\",\n",
        "        \"Red River College of Applied Arts, Science and Tec\": \"Red River College\",\n",
        "        \"Rogers Cable\": \"Rogers Communications\",\n",
        "        \"Rogers Communications Canada Inc.\": \"Rogers Communications\",\n",
        "        \"Full Throttle Networks\": \"Full Throttle Networks Inc.\",\n",
        "        \"Postmedia Network\": \"Postmedia Network Inc\",\n",
        "        \"Radiant Communications Canada Ltd.\": \"Radiant Communications Canada\",\n",
        "        \"Shaw Communications Inc.\": \"Shaw Communications\",\n",
        "        \"Shaw Telecom G.P.\": \"Shaw Communications\",\n",
        "        \"SpaceX Services\": \"SpaceX\",\n",
        "        \"SpaceX Starlink\": \"SpaceX\",\n",
        "        \"TekSavvy Solutions, Inc.\": \"TekSavvy Solutions\",\n",
        "        \"TELUS Communications Inc\": \"Telus Communications\",\n",
        "        \"TELUS Communications Inc.\": \"Telus Communications\",\n",
        "        \"TeraGo Networks Inc\": \"TeraGo Networks\",\n",
        "        \"TeraGo Networks Inc.\": \"TeraGo Networks\",\n",
        "        \"Total Server Solutions L.L.C\": \"Total Server Solutions L.L.C\",\n",
        "        \"Voyageur Internet Inc\": \"Voyageur Internet\",\n",
        "        \"Xplornet Communications Inc\": \"Xplornet Communications\",\n",
        "        \"Xplornet Communications Inc.\": \"Xplornet Communications\"\n",
        "    }\n",
        "    \n",
        "    return replacements.get(isp, isp)\n",
        "\n",
        "# Example usage:\n",
        "# Assuming you have a DataFrame named 'df' with a column named 'ISP'\n",
        "df['ISP'] = df['ISP'].apply(standardize_isp)\n",
        "\n",
        "unique_isp_count = len(df['ISP'].unique())\n",
        "print(\"Number of unique ISPs:\", unique_isp_count)"
      ],
      "metadata": {
        "id": "MsazcHNhq1P9",
        "outputId": "0828c1ca-d596-4a8c-ee7f-de34fb191582",
        "colab": {
          "base_uri": "https://localhost:8080/"
        }
      },
      "execution_count": null,
      "outputs": [
        {
          "output_type": "stream",
          "name": "stdout",
          "text": [
            "Number of unique ISPs: 73\n"
          ]
        }
      ]
    },
    {
      "cell_type": "markdown",
      "source": [
        "I'm going to list all the different ISPs"
      ],
      "metadata": {
        "id": "vevKQFBcrMXx"
      }
    },
    {
      "cell_type": "code",
      "source": [
        "unique_isps = df['ISP'].unique()\n",
        "for isp in unique_isps:\n",
        "    print(isp)"
      ],
      "metadata": {
        "id": "DPKvFW1_tCi6",
        "outputId": "50a44646-b0c6-402c-d065-7178f485b89c",
        "colab": {
          "base_uri": "https://localhost:8080/"
        }
      },
      "execution_count": null,
      "outputs": [
        {
          "output_type": "stream",
          "name": "stdout",
          "text": [
            "Shaw Communications\n",
            "Bell Canada\n",
            "WiBand Communications\n",
            "TekSavvy Solutions\n",
            "Altima Telecom\n",
            "Cipherkey Exchange Corp.\n",
            "Red River College\n",
            "CIK Telecom INC\n",
            "Voyageur Internet\n",
            "Xplornet Communications\n",
            "MERLIN\n",
            "The Exchange Global Server Center\n",
            "Amanah Tech Inc.\n",
            "Primus Telecommunications Canada Inc.\n",
            "ViaNetTV Inc\n",
            "Rogers Communications\n",
            "City of Winnipeg\n",
            "Stafford Communications, Inc.\n",
            "Full Throttle Networks Inc.\n",
            "MTS Inc.\n",
            "Total Server Solutions L.L.C.\n",
            "Questzone.Net, Inc.\n",
            "Telus Communications\n",
            "RBC Convention Centre Winnipeg\n",
            "Cogent Communications\n",
            "BIGPIPE\n",
            "University of Manitoba\n",
            "Corus Entertainment Inc\n",
            "Postmedia Network Inc\n",
            "Fastnet Communications\n",
            "T. Grand Networks Inc.\n",
            "Netminders Data Solution\n",
            "Manitoba Hydro\n",
            "TeraGo Networks\n",
            "Alberta Health Services\n",
            "South Winnipeg Technical Centre\n",
            "Swift High Speed.com\n",
            "VPN\n",
            "GloboTech Communications\n",
            "Corridor Communications\n",
            "LES.NET\n",
            "VOI NET INC.\n",
            "Packet Exchange Limited\n",
            "Performive LLC\n",
            "Radiant Communications Canada\n",
            "SpaceX\n",
            "Access Communications Co-operative Limited\n",
            "BH Telecom Corp.\n",
            "MRNet\n",
            "DataCamp Limited\n",
            "Prairie-Sky Wireless\n",
            "TBayTel\n",
            "Hutterian Broadband Network Inc\n",
            "Amazon Technologies Inc.\n",
            "DigitalOcean, LLC\n",
            "ACN\n",
            "Google, LLC\n",
            "Cloudflare, Inc.\n",
            "Akamai Technologies, Inc.\n",
            "SurfEasy Inc\n",
            "Manitoba First Nations Education Resource Centre\n",
            "Bell Mobility, Inc\n",
            "Space Exploration Technologies Corporation\n",
            "Ipxo Limited\n",
            "Saskatchewan Telecommunications\n",
            "Business Development Bank of Canada\n",
            "Epic Information Solutions\n",
            "Shared Services Canada\n",
            "PacketHub S.A.\n",
            "Oxio\n",
            "Tefincom S.A.\n",
            "Atlantic Metro Communications II, Inc.\n",
            "Taylor McCaffrey LLP\n"
          ]
        }
      ]
    }
  ]
}