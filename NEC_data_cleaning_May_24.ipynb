{
  "nbformat": 4,
  "nbformat_minor": 0,
  "metadata": {
    "colab": {
      "provenance": [],
      "authorship_tag": "ABX9TyNpYFikNP4OqSTZipaM2pBI",
      "include_colab_link": true
    },
    "kernelspec": {
      "name": "python3",
      "display_name": "Python 3"
    },
    "language_info": {
      "name": "python"
    }
  },
  "cells": [
    {
      "cell_type": "markdown",
      "metadata": {
        "id": "view-in-github",
        "colab_type": "text"
      },
      "source": [
        "<a href=\"https://colab.research.google.com/github/ShanChartrand/NECDataCleaning/blob/main/NEC_data_cleaning_May_24.ipynb\" target=\"_parent\"><img src=\"https://colab.research.google.com/assets/colab-badge.svg\" alt=\"Open In Colab\"/></a>"
      ]
    },
    {
      "cell_type": "markdown",
      "source": [
        "Importing file"
      ],
      "metadata": {
        "id": "uKkz5esNBd65"
      }
    },
    {
      "cell_type": "code",
      "execution_count": 2,
      "metadata": {
        "colab": {
          "base_uri": "https://localhost:8080/"
        },
        "id": "4d2va8Sp-3Z3",
        "outputId": "cffedc4c-561d-42c8-cb2d-d2208cbaacfa"
      },
      "outputs": [
        {
          "output_type": "stream",
          "name": "stdout",
          "text": [
            "Looking in indexes: https://pypi.org/simple, https://us-python.pkg.dev/colab-wheels/public/simple/\n",
            "Requirement already satisfied: pandas in /usr/local/lib/python3.10/dist-packages (1.5.3)\n",
            "Requirement already satisfied: python-dateutil>=2.8.1 in /usr/local/lib/python3.10/dist-packages (from pandas) (2.8.2)\n",
            "Requirement already satisfied: pytz>=2020.1 in /usr/local/lib/python3.10/dist-packages (from pandas) (2022.7.1)\n",
            "Requirement already satisfied: numpy>=1.21.0 in /usr/local/lib/python3.10/dist-packages (from pandas) (1.22.4)\n",
            "Requirement already satisfied: six>=1.5 in /usr/local/lib/python3.10/dist-packages (from python-dateutil>=2.8.1->pandas) (1.16.0)\n"
          ]
        }
      ],
      "source": [
        "!pip install pandas\n",
        "import pandas as pd\n",
        "df = pd.read_csv('https://raw.githubusercontent.com/ShanChartrand/NECDataCleaning/main/necoriginal.csv')\n"
      ]
    },
    {
      "cell_type": "markdown",
      "source": [
        "Importing libraries"
      ],
      "metadata": {
        "id": "gKAL2FHzBa8o"
      }
    },
    {
      "cell_type": "code",
      "source": [
        "import pandas as pd\n",
        "import numpy as np\n",
        "import matplotlib.pyplot as plt\n",
        "import io\n",
        "import requests"
      ],
      "metadata": {
        "id": "yb7N0MYp-a8P"
      },
      "execution_count": 3,
      "outputs": []
    },
    {
      "cell_type": "markdown",
      "source": [
        "Viewing original number of rows and columns"
      ],
      "metadata": {
        "id": "_k9UqAY5BhhO"
      }
    },
    {
      "cell_type": "code",
      "source": [
        "# Count the number of rows and columns\n",
        "num_rows = df.shape[0]\n",
        "num_columns = df.shape[1]\n",
        "\n",
        "# Print the results\n",
        "print(\"Number of rows:\", num_rows)\n",
        "print(\"Number of columns:\", num_columns)"
      ],
      "metadata": {
        "id": "9MFM6R7IAWQ1",
        "outputId": "d012741d-0ed4-4fd4-af3d-9cc99478130e",
        "colab": {
          "base_uri": "https://localhost:8080/"
        }
      },
      "execution_count": 4,
      "outputs": [
        {
          "output_type": "stream",
          "name": "stdout",
          "text": [
            "Number of rows: 19928\n",
            "Number of columns: 31\n"
          ]
        }
      ]
    },
    {
      "cell_type": "markdown",
      "source": [
        "Removing rows 2-8064, before metrics such as Jitter, Latency, and Packet loss were reliably measured"
      ],
      "metadata": {
        "id": "sgcjiF1_BmnV"
      }
    },
    {
      "cell_type": "code",
      "source": [
        "# Read the CSV file\n",
        "df = pd.read_csv('https://raw.githubusercontent.com/ShanChartrand/NECDataCleaning/main/necoriginal.csv')\n",
        "\n",
        "# Remove rows 2 through 8064\n",
        "df.drop(df.index[1:8064], inplace=True)\n",
        "\n",
        "# Save the updated DataFrame \n",
        "df.to_csv('https://raw.githubusercontent.com/ShanChartrand/NECDataCleaning/main/necoriginal.csv', index=False)"
      ],
      "metadata": {
        "id": "Tv6iMA-h-dzN"
      },
      "execution_count": 5,
      "outputs": []
    },
    {
      "cell_type": "markdown",
      "source": [
        "Counting the new number of rows & columns after removing rows 2-8064"
      ],
      "metadata": {
        "id": "_N_k_iK7B01D"
      }
    },
    {
      "cell_type": "code",
      "source": [
        "# Count the number of rows and columns\n",
        "num_rows = df.shape[0]\n",
        "num_columns = df.shape[1]\n",
        "\n",
        "# Print the results\n",
        "print(\"Number of rows:\", num_rows)\n",
        "print(\"Number of columns:\", num_columns)"
      ],
      "metadata": {
        "id": "pFqF4As7AIfA",
        "outputId": "a97b07f6-a171-472e-fdbe-8ec7385e5337",
        "colab": {
          "base_uri": "https://localhost:8080/"
        }
      },
      "execution_count": 6,
      "outputs": [
        {
          "output_type": "stream",
          "name": "stdout",
          "text": [
            "Number of rows: 11865\n",
            "Number of columns: 31\n"
          ]
        }
      ]
    },
    {
      "cell_type": "markdown",
      "source": [
        "Looking at the % of missing items in columns"
      ],
      "metadata": {
        "id": "4rhiwK5PCASX"
      }
    },
    {
      "cell_type": "code",
      "source": [
        "# Calculate the percentage of missing cells in each column\n",
        "missing_percentages = df.isna().sum() / len(df) * 100\n",
        "\n",
        "# Print the result\n",
        "print(missing_percentages)"
      ],
      "metadata": {
        "id": "V_tb7hE1CMox",
        "outputId": "005edbee-8d0e-4b36-d6de-f9234a4b95cf",
        "colab": {
          "base_uri": "https://localhost:8080/"
        }
      },
      "execution_count": 7,
      "outputs": [
        {
          "output_type": "stream",
          "name": "stdout",
          "text": [
            "TEST ID                       0.000000\n",
            "TEST DATE / UTC HOUR          0.000000\n",
            "GEO LATITUDE                  0.000000\n",
            "GEO LONGITUDE                 0.000000\n",
            "DOWNLOAD SPEED                0.000000\n",
            "UPLOAD SPEED                  0.000000\n",
            "JITTER                        0.008428\n",
            "LATENCY                       0.008428\n",
            "PACKET LOSS                   0.008428\n",
            "MOBILE TEST                   0.000000\n",
            "ISP                           0.000000\n",
            "CLIENT IP                     0.000000\n",
            "CLIENT CITY                   0.000000\n",
            "CLIENT PROVINCE               0.000000\n",
            "CLIENT POSTAL CODE            0.000000\n",
            "AS NUMBER                     0.008428\n",
            "IPV6 SUPPORTED                0.000000\n",
            "DNSSEC SUPPORTED              0.000000\n",
            "TEST SERVER                   0.000000\n",
            "browser_test_url              0.008428\n",
            "CONTRACTED DOWNLOAD SPEED    75.347661\n",
            "CONTRACTED UPLOAD SPEED      80.311842\n",
            "CONTRACTED DATA CAP          87.265065\n",
            "CONTRACTED MONTHLY COST      79.241466\n",
            "SERVICE TYPE                 73.881163\n",
            "USER SATISFACTION            77.800253\n",
            "CONNECTION TYPE              87.155499\n",
            "USER COMMENTS                68.942267\n",
            "HEATMAP_MUNICIPALITY          0.000000\n",
            "HEATMAP_CENSUS_TRACTS         0.000000\n",
            "HEATMAP_PROJECT_AREA         94.757691\n",
            "dtype: float64\n"
          ]
        }
      ]
    },
    {
      "cell_type": "markdown",
      "source": [
        "Removing columns with greater than 68% missing values, and then listing the remaining number of rows & columns"
      ],
      "metadata": {
        "id": "RRY0OXMUCXve"
      }
    },
    {
      "cell_type": "code",
      "source": [
        "# List of columns to remove\n",
        "columns_to_remove = [\n",
        "    'CONTRACTED DOWNLOAD SPEED',\n",
        "    'CONTRACTED UPLOAD SPEED',\n",
        "    'CONTRACTED DATA CAP',\n",
        "    'CONTRACTED MONTHLY COST',\n",
        "    'SERVICE TYPE',\n",
        "    'USER SATISFACTION',\n",
        "    'CONNECTION TYPE',\n",
        "    'USER COMMENTS',\n",
        "    'HEATMAP_PROJECT_AREA'\n",
        "]\n",
        "\n",
        "# Remove the columns\n",
        "df.drop(columns=columns_to_remove, inplace=True)\n",
        "\n",
        "# Save the updated DataFrame \n",
        "df.to_csv('https://raw.githubusercontent.com/ShanChartrand/NECDataCleaning/main/necoriginal.csv', index=False)\n",
        "\n",
        "# Count the number of rows and columns\n",
        "num_rows = df.shape[0]\n",
        "num_columns = df.shape[1]\n",
        "\n",
        "# Print the results\n",
        "print(\"Number of rows:\", num_rows)\n",
        "print(\"Number of columns:\", num_columns)"
      ],
      "metadata": {
        "id": "EyOhZspYCnxg",
        "outputId": "74b6dfb2-316e-4568-cbd2-1e2b96bb75d9",
        "colab": {
          "base_uri": "https://localhost:8080/"
        }
      },
      "execution_count": 8,
      "outputs": [
        {
          "output_type": "stream",
          "name": "stdout",
          "text": [
            "Number of rows: 11865\n",
            "Number of columns: 22\n"
          ]
        }
      ]
    },
    {
      "cell_type": "markdown",
      "source": [
        "Checking for duplicates in the TEST ID column"
      ],
      "metadata": {
        "id": "wKb1PmM0ggkU"
      }
    },
    {
      "cell_type": "code",
      "source": [
        "# Count the number of duplicated TEST ID values\n",
        "num_duplicates = df.duplicated(subset='TEST ID', keep=False).sum()\n",
        "\n",
        "# Print the number of duplicates\n",
        "print(f\"There are {num_duplicates} rows with duplicated TEST ID values.\")"
      ],
      "metadata": {
        "colab": {
          "base_uri": "https://localhost:8080/"
        },
        "id": "ez24zJwZgaaP",
        "outputId": "a203868c-805c-49fe-d8ec-f951626447f8"
      },
      "execution_count": 9,
      "outputs": [
        {
          "output_type": "stream",
          "name": "stdout",
          "text": [
            "There are 0 rows with duplicated TEST ID values.\n"
          ]
        }
      ]
    },
    {
      "cell_type": "markdown",
      "source": [
        "Looking for duplicate rows"
      ],
      "metadata": {
        "id": "CTa358_gyxKg"
      }
    },
    {
      "cell_type": "code",
      "source": [
        "# Find duplicate rows based on all columns\n",
        "duplicates = df[df.duplicated()]\n",
        "\n",
        "# Display the duplicate rows (if any)\n",
        "if len(duplicates) > 0:\n",
        "    print(f\"Found {len(duplicates)} duplicate rows:\")\n",
        "    print(duplicates)\n",
        "else:\n",
        "    print(\"No duplicate rows found.\")"
      ],
      "metadata": {
        "colab": {
          "base_uri": "https://localhost:8080/"
        },
        "id": "RBy34o8zyrO9",
        "outputId": "c01d855c-c267-46ba-f6a2-d4fe6cb587c7"
      },
      "execution_count": 10,
      "outputs": [
        {
          "output_type": "stream",
          "name": "stdout",
          "text": [
            "No duplicate rows found.\n"
          ]
        }
      ]
    },
    {
      "cell_type": "markdown",
      "source": [
        "Looking at the % of missing items in columns"
      ],
      "metadata": {
        "id": "UNPprN4NEzTp"
      }
    },
    {
      "cell_type": "code",
      "source": [
        "# Calculate the percentage of missing cells in each column\n",
        "missing_percentages = df.isna().sum() / len(df) * 100\n",
        "\n",
        "# Print the result\n",
        "print(missing_percentages)"
      ],
      "metadata": {
        "id": "cef99s21E8rf",
        "outputId": "50c73973-21d7-4f84-faff-31f3b95125f9",
        "colab": {
          "base_uri": "https://localhost:8080/"
        }
      },
      "execution_count": 11,
      "outputs": [
        {
          "output_type": "stream",
          "name": "stdout",
          "text": [
            "TEST ID                  0.000000\n",
            "TEST DATE / UTC HOUR     0.000000\n",
            "GEO LATITUDE             0.000000\n",
            "GEO LONGITUDE            0.000000\n",
            "DOWNLOAD SPEED           0.000000\n",
            "UPLOAD SPEED             0.000000\n",
            "JITTER                   0.008428\n",
            "LATENCY                  0.008428\n",
            "PACKET LOSS              0.008428\n",
            "MOBILE TEST              0.000000\n",
            "ISP                      0.000000\n",
            "CLIENT IP                0.000000\n",
            "CLIENT CITY              0.000000\n",
            "CLIENT PROVINCE          0.000000\n",
            "CLIENT POSTAL CODE       0.000000\n",
            "AS NUMBER                0.008428\n",
            "IPV6 SUPPORTED           0.000000\n",
            "DNSSEC SUPPORTED         0.000000\n",
            "TEST SERVER              0.000000\n",
            "browser_test_url         0.008428\n",
            "HEATMAP_MUNICIPALITY     0.000000\n",
            "HEATMAP_CENSUS_TRACTS    0.000000\n",
            "dtype: float64\n"
          ]
        }
      ]
    },
    {
      "cell_type": "markdown",
      "source": [
        "As per above, we can see that the columns that have missing items each have exactly 0.008428%, which indicates there was a test interruption or failure with CIRA. Will remove those rows then confirm the % of missing items per column."
      ],
      "metadata": {
        "id": "bNl5JALNFTo4"
      }
    },
    {
      "cell_type": "code",
      "source": [
        "# List of columns to check for missing values\n",
        "columns_to_check = ['JITTER', 'LATENCY', 'PACKET LOSS', 'AS NUMBER', 'browser_test_url']\n",
        "\n",
        "# Remove rows with missing values in specified columns\n",
        "df.dropna(subset=columns_to_check, inplace=True)\n",
        "\n",
        "# Save the updated DataFrame \n",
        "df.to_csv('https://raw.githubusercontent.com/ShanChartrand/NECDataCleaning/main/necoriginal.csv', index=False)\n",
        "\n",
        "# Calculate the percentage of missing cells in each column\n",
        "missing_percentages = df.isna().sum() / len(df) * 100\n",
        "\n",
        "# Print the result\n",
        "print(missing_percentages)"
      ],
      "metadata": {
        "id": "am8M2ZF-HlEC",
        "outputId": "681977a0-8a63-4dcd-8c3b-3ac6b7780ac6",
        "colab": {
          "base_uri": "https://localhost:8080/"
        }
      },
      "execution_count": 12,
      "outputs": [
        {
          "output_type": "stream",
          "name": "stdout",
          "text": [
            "TEST ID                  0.0\n",
            "TEST DATE / UTC HOUR     0.0\n",
            "GEO LATITUDE             0.0\n",
            "GEO LONGITUDE            0.0\n",
            "DOWNLOAD SPEED           0.0\n",
            "UPLOAD SPEED             0.0\n",
            "JITTER                   0.0\n",
            "LATENCY                  0.0\n",
            "PACKET LOSS              0.0\n",
            "MOBILE TEST              0.0\n",
            "ISP                      0.0\n",
            "CLIENT IP                0.0\n",
            "CLIENT CITY              0.0\n",
            "CLIENT PROVINCE          0.0\n",
            "CLIENT POSTAL CODE       0.0\n",
            "AS NUMBER                0.0\n",
            "IPV6 SUPPORTED           0.0\n",
            "DNSSEC SUPPORTED         0.0\n",
            "TEST SERVER              0.0\n",
            "browser_test_url         0.0\n",
            "HEATMAP_MUNICIPALITY     0.0\n",
            "HEATMAP_CENSUS_TRACTS    0.0\n",
            "dtype: float64\n"
          ]
        }
      ]
    },
    {
      "cell_type": "markdown",
      "source": [
        "We had 11865 rows, let's see how many were removed"
      ],
      "metadata": {
        "id": "too27sBlH1j0"
      }
    },
    {
      "cell_type": "code",
      "source": [
        "# Count the number of rows\n",
        "num_rows = df.shape[0]\n",
        "\n",
        "# Print the results\n",
        "print(\"Number of rows:\", num_rows)"
      ],
      "metadata": {
        "id": "vHKkpYtgIF_w",
        "outputId": "a434982d-c8fb-4a31-b898-2060483c0f8a",
        "colab": {
          "base_uri": "https://localhost:8080/"
        }
      },
      "execution_count": 13,
      "outputs": [
        {
          "output_type": "stream",
          "name": "stdout",
          "text": [
            "Number of rows: 11863\n"
          ]
        }
      ]
    },
    {
      "cell_type": "markdown",
      "source": [
        "We can see that only 2 rows were removed. Now to determine the # of unique ISPs"
      ],
      "metadata": {
        "id": "T1clT4QYIMnb"
      }
    },
    {
      "cell_type": "code",
      "source": [
        "unique_isp_count = len(df['ISP'].unique())\n",
        "print(\"Number of unique ISPs:\", unique_isp_count)"
      ],
      "metadata": {
        "id": "nxVw-HsSrXEN",
        "outputId": "cea52c1d-d4c3-4dd0-a8f1-582bee92d4b5",
        "colab": {
          "base_uri": "https://localhost:8080/"
        }
      },
      "execution_count": 14,
      "outputs": [
        {
          "output_type": "stream",
          "name": "stdout",
          "text": [
            "Number of unique ISPs: 84\n"
          ]
        }
      ]
    },
    {
      "cell_type": "markdown",
      "source": [
        "Now we must standardize the ISPs and then count the # of unique ISPs after standardizatioin\n",
        "\n"
      ],
      "metadata": {
        "id": "qMdeP1snrX_0"
      }
    },
    {
      "cell_type": "code",
      "source": [
        "def standardize_isp(isp):\n",
        "    replacements = {\n",
        "        \"Access Communications  Co-operative Limited\": \"Access Communications Co-operative Limited\",\n",
        "        \"Amanah Tech\": \"Amanah Tech Inc.\",\n",
        "        \"Amazon.com, Inc.\": \"Amazon Technologies Inc.\",\n",
        "        \"Bell MTS\": \"Bell Canada\",\n",
        "        \"Bell Mobility\": \"Bell Canada\",\n",
        "        \"Bell Mobility, Inc.\": \"Bell Canada\",\n",
        "        \"Bell MTS Data Centres G.P\": \"Bell Canada\",\n",
        "        \"CIK Telecom\": \"CIK Telecom INC\",\n",
        "        \"Commstream Communications\": \"Commstream Communications Inc\",\n",
        "        \"Corridor Communications, INC.\": \"Corridor Communications\",\n",
        "        \"Manitoba First Nations Education Resource Centre Inc.\": \"Manitoba First Nations Education Resource Centre\",\n",
        "        \"Manitoba Hydro International LTD\": \"Manitoba Hydro\",\n",
        "        \"Manitoba Hydro Telecom\": \"Manitoba Hydro\",\n",
        "        \"MTS Allstream\": \"MTS Inc.\",\n",
        "        \"MTS Inc\": \"MTS Inc.\",\n",
        "        \"MTS Allstream Inc.\": \"MTS Inc.\",\n",
        "        \"MTS Data Centres\": \"MTS Inc.\",\n",
        "        \"Red River College of Applied Arts\": \"Red River College\",\n",
        "        \"Red River College of Applied Arts, Science and Tec\": \"Red River College\",\n",
        "        \"Rogers Cable\": \"Rogers Communications\",\n",
        "        \"Rogers Communications Canada Inc.\": \"Rogers Communications\",\n",
        "        \"Full Throttle Networks\": \"Full Throttle Networks Inc.\",\n",
        "        \"Postmedia Network\": \"Postmedia Network Inc\",\n",
        "        \"Radiant Communications Canada Ltd.\": \"Radiant Communications Canada\",\n",
        "        \"Shaw Communications Inc.\": \"Shaw Communications\",\n",
        "        \"Shaw Telecom G.P.\": \"Shaw Communications\",\n",
        "        \"SpaceX Services\": \"SpaceX\",\n",
        "        \"SpaceX Starlink\": \"SpaceX\",\n",
        "        \"TekSavvy Solutions, Inc.\": \"TekSavvy Solutions\",\n",
        "        \"TELUS Communications Inc\": \"Telus Communications\",\n",
        "        \"TELUS Communications Inc.\": \"Telus Communications\",\n",
        "        \"TeraGo Networks Inc\": \"TeraGo Networks\",\n",
        "        \"TeraGo Networks Inc.\": \"TeraGo Networks\",\n",
        "        \"Total Server Solutions L.L.C\": \"Total Server Solutions L.L.C\",\n",
        "        \"Voyageur Internet Inc\": \"Voyageur Internet\",\n",
        "        \"Xplornet Communications Inc\": \"Xplornet Communications\",\n",
        "        \"Xplornet Communications Inc.\": \"Xplornet Communications\"\n",
        "    }\n",
        "    \n",
        "    return replacements.get(isp, isp)\n",
        "\n",
        "# Example usage:\n",
        "# Assuming you have a DataFrame named 'df' with a column named 'ISP'\n",
        "df['ISP'] = df['ISP'].apply(standardize_isp)\n",
        "\n",
        "unique_isp_count = len(df['ISP'].unique())\n",
        "print(\"Number of unique ISPs:\", unique_isp_count)"
      ],
      "metadata": {
        "id": "MsazcHNhq1P9",
        "outputId": "d672c0c6-8e81-4012-fa41-4758bfd97d9c",
        "colab": {
          "base_uri": "https://localhost:8080/"
        }
      },
      "execution_count": 15,
      "outputs": [
        {
          "output_type": "stream",
          "name": "stdout",
          "text": [
            "Number of unique ISPs: 73\n"
          ]
        }
      ]
    },
    {
      "cell_type": "markdown",
      "source": [
        "I'm going to list all the different ISPs"
      ],
      "metadata": {
        "id": "vevKQFBcrMXx"
      }
    },
    {
      "cell_type": "code",
      "source": [
        "unique_isps = df['ISP'].unique()\n",
        "for isp in unique_isps:\n",
        "    print(isp)"
      ],
      "metadata": {
        "id": "DPKvFW1_tCi6",
        "outputId": "02bb259b-18b8-493f-edcd-8ab3c53dc7eb",
        "colab": {
          "base_uri": "https://localhost:8080/"
        }
      },
      "execution_count": 16,
      "outputs": [
        {
          "output_type": "stream",
          "name": "stdout",
          "text": [
            "Shaw Communications\n",
            "Bell Canada\n",
            "WiBand Communications\n",
            "TekSavvy Solutions\n",
            "Altima Telecom\n",
            "Cipherkey Exchange Corp.\n",
            "Red River College\n",
            "CIK Telecom INC\n",
            "Voyageur Internet\n",
            "Xplornet Communications\n",
            "MERLIN\n",
            "The Exchange Global Server Center\n",
            "Amanah Tech Inc.\n",
            "Primus Telecommunications Canada Inc.\n",
            "ViaNetTV Inc\n",
            "Rogers Communications\n",
            "City of Winnipeg\n",
            "Stafford Communications, Inc.\n",
            "Full Throttle Networks Inc.\n",
            "MTS Inc.\n",
            "Total Server Solutions L.L.C.\n",
            "Questzone.Net, Inc.\n",
            "Telus Communications\n",
            "RBC Convention Centre Winnipeg\n",
            "Cogent Communications\n",
            "BIGPIPE\n",
            "University of Manitoba\n",
            "Corus Entertainment Inc\n",
            "Postmedia Network Inc\n",
            "Fastnet Communications\n",
            "T. Grand Networks Inc.\n",
            "Netminders Data Solution\n",
            "Manitoba Hydro\n",
            "TeraGo Networks\n",
            "Alberta Health Services\n",
            "South Winnipeg Technical Centre\n",
            "Swift High Speed.com\n",
            "VPN\n",
            "GloboTech Communications\n",
            "Corridor Communications\n",
            "LES.NET\n",
            "VOI NET INC.\n",
            "Packet Exchange Limited\n",
            "Performive LLC\n",
            "Radiant Communications Canada\n",
            "SpaceX\n",
            "Access Communications Co-operative Limited\n",
            "BH Telecom Corp.\n",
            "MRNet\n",
            "DataCamp Limited\n",
            "Prairie-Sky Wireless\n",
            "TBayTel\n",
            "Hutterian Broadband Network Inc\n",
            "Amazon Technologies Inc.\n",
            "DigitalOcean, LLC\n",
            "ACN\n",
            "Google, LLC\n",
            "Cloudflare, Inc.\n",
            "Akamai Technologies, Inc.\n",
            "SurfEasy Inc\n",
            "Manitoba First Nations Education Resource Centre\n",
            "Bell Mobility, Inc\n",
            "Space Exploration Technologies Corporation\n",
            "Ipxo Limited\n",
            "Saskatchewan Telecommunications\n",
            "Business Development Bank of Canada\n",
            "Epic Information Solutions\n",
            "Shared Services Canada\n",
            "PacketHub S.A.\n",
            "Oxio\n",
            "Tefincom S.A.\n",
            "Atlantic Metro Communications II, Inc.\n",
            "Taylor McCaffrey LLP\n"
          ]
        }
      ]
    },
    {
      "cell_type": "markdown",
      "source": [
        "Looking at for upload/download speeds of 0 mbps"
      ],
      "metadata": {
        "id": "x6IcxkL10hYF"
      }
    },
    {
      "cell_type": "code",
      "source": [
        "# Count the number of cells equal to zero in the 'DOWNLOAD SPEED' column\n",
        "download_speed_zeros = (df['DOWNLOAD SPEED'] == 0).sum()\n",
        "\n",
        "# Count the number of cells equal to zero in the 'UPLOAD SPEED' column\n",
        "upload_speed_zeros = (df['UPLOAD SPEED'] == 0).sum()\n",
        "\n",
        "# Print the counts\n",
        "print(\"Number of cells equal to zero in 'DOWNLOAD SPEED' column:\", download_speed_zeros)\n",
        "print(\"Number of cells equal to zero in 'UPLOAD SPEED' column:\", upload_speed_zeros)"
      ],
      "metadata": {
        "id": "pNhF4XYi1I7s",
        "outputId": "4e17b5f3-7a0d-4387-b25d-fb88a6f0e89b",
        "colab": {
          "base_uri": "https://localhost:8080/"
        }
      },
      "execution_count": 17,
      "outputs": [
        {
          "output_type": "stream",
          "name": "stdout",
          "text": [
            "Number of cells equal to zero in 'DOWNLOAD SPEED' column: 0\n",
            "Number of cells equal to zero in 'UPLOAD SPEED' column: 5\n"
          ]
        }
      ]
    },
    {
      "cell_type": "markdown",
      "source": [
        "I now need to remove the 5 rows that have upload speeds of 0, and then list how many cells = 0 to confirm removal was successful"
      ],
      "metadata": {
        "id": "Hv_BFli01X6W"
      }
    },
    {
      "cell_type": "code",
      "source": [
        "# Count the number of cells equal to zero in the 'UPLOAD SPEED' column before removal\n",
        "upload_speed_zeros_before = (df['UPLOAD SPEED'] == 0).sum()\n",
        "\n",
        "# Remove rows where UPLOAD SPEED is equal to 0\n",
        "df = df[df['UPLOAD SPEED'] != 0]\n",
        "\n",
        "# Count the number of cells equal to zero in the 'UPLOAD SPEED' column after removal\n",
        "upload_speed_zeros_after = (df['UPLOAD SPEED'] == 0).sum()\n",
        "\n",
        "# Save the updated DataFrame \n",
        "df.to_csv('https://raw.githubusercontent.com/ShanChartrand/NECDataCleaning/main/necoriginal.csv', index=False)\n",
        "\n",
        "# Print the count before and after removal\n",
        "print(\"Number of cells equal to zero in 'UPLOAD SPEED' column before removal:\", upload_speed_zeros_before)\n",
        "print(\"Number of cells equal to zero in 'UPLOAD SPEED' column after removal:\", upload_speed_zeros_after)"
      ],
      "metadata": {
        "id": "JUvJTXSS13i8",
        "outputId": "c0daa4d9-c93a-4d47-fd18-331967bdea26",
        "colab": {
          "base_uri": "https://localhost:8080/"
        }
      },
      "execution_count": 19,
      "outputs": [
        {
          "output_type": "stream",
          "name": "stdout",
          "text": [
            "Number of cells equal to zero in 'UPLOAD SPEED' column before removal: 0\n",
            "Number of cells equal to zero in 'UPLOAD SPEED' column after removal: 0\n"
          ]
        }
      ]
    }
  ]
}