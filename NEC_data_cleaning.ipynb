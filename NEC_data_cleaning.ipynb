{
  "nbformat": 4,
  "nbformat_minor": 0,
  "metadata": {
    "colab": {
      "provenance": [],
      "authorship_tag": "ABX9TyNh1jZw0zYWnC4Wb8qPYiF3",
      "include_colab_link": true
    },
    "kernelspec": {
      "name": "python3",
      "display_name": "Python 3"
    },
    "language_info": {
      "name": "python"
    }
  },
  "cells": [
    {
      "cell_type": "markdown",
      "metadata": {
        "id": "view-in-github",
        "colab_type": "text"
      },
      "source": [
        "<a href=\"https://colab.research.google.com/github/ShanChartrand/NECDataCleaning/blob/main/NEC_data_cleaning.ipynb\" target=\"_parent\"><img src=\"https://colab.research.google.com/assets/colab-badge.svg\" alt=\"Open In Colab\"/></a>"
      ]
    },
    {
      "cell_type": "code",
      "execution_count": 54,
      "metadata": {
        "colab": {
          "base_uri": "https://localhost:8080/"
        },
        "id": "4d2va8Sp-3Z3",
        "outputId": "33c63e6f-63ab-4485-fb4a-44832b9ecbe4"
      },
      "outputs": [
        {
          "output_type": "stream",
          "name": "stdout",
          "text": [
            "Looking in indexes: https://pypi.org/simple, https://us-python.pkg.dev/colab-wheels/public/simple/\n",
            "Requirement already satisfied: pandas in /usr/local/lib/python3.10/dist-packages (1.5.3)\n",
            "Requirement already satisfied: pytz>=2020.1 in /usr/local/lib/python3.10/dist-packages (from pandas) (2022.7.1)\n",
            "Requirement already satisfied: numpy>=1.21.0 in /usr/local/lib/python3.10/dist-packages (from pandas) (1.22.4)\n",
            "Requirement already satisfied: python-dateutil>=2.8.1 in /usr/local/lib/python3.10/dist-packages (from pandas) (2.8.2)\n",
            "Requirement already satisfied: six>=1.5 in /usr/local/lib/python3.10/dist-packages (from python-dateutil>=2.8.1->pandas) (1.16.0)\n"
          ]
        }
      ],
      "source": [
        "!pip install pandas\n",
        "import pandas as pd\n",
        "df = pd.read_csv('https://raw.githubusercontent.com/ShanChartrand/NECDataCleaning/main/necoriginal.csv')\n"
      ]
    },
    {
      "cell_type": "code",
      "source": [
        "# Read the North End Connect data file\n",
        "\n",
        "import pandas as pd\n",
        "import numpy as np\n",
        "import matplotlib.pyplot as plt\n",
        "import io\n",
        "import requests\n",
        "\n",
        "url=\"https://raw.githubusercontent.com/ShanChartrand/NECDataCleaning/main/necoriginal.csv\"\n",
        "s=requests.get(url).content\n",
        "necoriginal=pd.read_csv(io.StringIO(s.decode('utf-8')))\n",
        "\n",
        "# Display a few rows of the data to ensure the file is connected correctly\n",
        "\n",
        "display(necoriginal.head(10))\n",
        "\n"
      ],
      "metadata": {
        "colab": {
          "base_uri": "https://localhost:8080/",
          "height": 855
        },
        "id": "gqfqZuH2C4XL",
        "outputId": "640fe97d-1224-4975-b0bf-fa15d8b467b7"
      },
      "execution_count": 55,
      "outputs": [
        {
          "output_type": "display_data",
          "data": {
            "text/plain": [
              "   TEST ID TEST DATE / UTC HOUR  GEO LATITUDE  GEO LONGITUDE  DOWNLOAD SPEED  \\\n",
              "0      261  2015-05-23 10:00:13     49.869556     -97.296739           16.22   \n",
              "1      284  2015-05-20 10:01:05     49.852738     -97.270058           14.89   \n",
              "2      622  2015-05-19 10:00:28     49.887575     -97.140091            9.89   \n",
              "3      701  2015-05-24 10:00:08     49.814284     -97.160235           10.62   \n",
              "4      707  2015-05-19 10:00:19     49.882706     -97.161829            9.89   \n",
              "5      765  2015-05-19 10:00:21     49.897501     -97.136397           10.53   \n",
              "6      831  2015-05-16 10:00:30     49.946880     -97.058317            5.79   \n",
              "7      972  2015-05-16 10:00:33     49.878963     -97.158439            5.79   \n",
              "8     1110  2015-05-19 10:00:23     49.846671     -97.257653            1.88   \n",
              "9     1147  2015-05-20 10:01:16     49.937924     -97.118305           10.58   \n",
              "\n",
              "   UPLOAD SPEED  JITTER  LATENCY  PACKET LOSS  MOBILE TEST  ...  \\\n",
              "0          2.79     NaN      NaN          NaN        False  ...   \n",
              "1          2.74     NaN      NaN          NaN        False  ...   \n",
              "2          5.64     NaN      NaN          NaN        False  ...   \n",
              "3          2.09     NaN      NaN          NaN        False  ...   \n",
              "4          2.60     NaN      NaN          NaN        False  ...   \n",
              "5          0.70     NaN      NaN          NaN        False  ...   \n",
              "6          0.56     NaN      NaN          NaN        False  ...   \n",
              "7          0.81     NaN      NaN          NaN        False  ...   \n",
              "8          1.81     NaN      NaN          NaN        False  ...   \n",
              "9          2.76     NaN      NaN          NaN        False  ...   \n",
              "\n",
              "  CONTRACTED UPLOAD SPEED CONTRACTED DATA CAP CONTRACTED MONTHLY COST  \\\n",
              "0                     NaN                 NaN                     NaN   \n",
              "1                     NaN                 NaN                     NaN   \n",
              "2                     NaN                 NaN                     NaN   \n",
              "3                     NaN                 NaN                     NaN   \n",
              "4                     NaN                 NaN                     NaN   \n",
              "5                     NaN                 NaN                     NaN   \n",
              "6                     NaN                 NaN                     NaN   \n",
              "7                     NaN                 NaN                     NaN   \n",
              "8                     NaN                 NaN                     NaN   \n",
              "9                     NaN                 NaN                     NaN   \n",
              "\n",
              "  SERVICE TYPE USER SATISFACTION CONNECTION TYPE  USER COMMENTS  \\\n",
              "0          NaN               NaN             NaN            NaN   \n",
              "1          NaN               NaN             NaN            NaN   \n",
              "2          NaN               NaN             NaN            NaN   \n",
              "3          NaN               NaN             NaN            NaN   \n",
              "4          NaN               NaN             NaN            NaN   \n",
              "5          NaN               NaN             NaN            NaN   \n",
              "6          NaN               NaN             NaN            NaN   \n",
              "7          NaN               NaN             NaN            NaN   \n",
              "8          NaN               NaN             NaN            NaN   \n",
              "9          NaN               NaN             NaN            NaN   \n",
              "\n",
              "   HEATMAP_MUNICIPALITY HEATMAP_CENSUS_TRACTS HEATMAP_PROJECT_AREA  \n",
              "0              Winnipeg            6020537.02                  NaN  \n",
              "1              Winnipeg            6020522.02                  NaN  \n",
              "2              Winnipeg            6020014.00                  NaN  \n",
              "3              Winnipeg            6020501.02                  NaN  \n",
              "4              Winnipeg            6020016.00                  NaN  \n",
              "5              Winnipeg            6020024.00                  NaN  \n",
              "6              Winnipeg            6020142.02                  NaN  \n",
              "7              Winnipeg            6020015.00                  NaN  \n",
              "8              Winnipeg            6020522.02                  NaN  \n",
              "9              Winnipeg            6020551.00                  NaN  \n",
              "\n",
              "[10 rows x 31 columns]"
            ],
            "text/html": [
              "\n",
              "  <div id=\"df-833b7426-8d51-4f4a-a2d4-d5bbc74430c8\">\n",
              "    <div class=\"colab-df-container\">\n",
              "      <div>\n",
              "<style scoped>\n",
              "    .dataframe tbody tr th:only-of-type {\n",
              "        vertical-align: middle;\n",
              "    }\n",
              "\n",
              "    .dataframe tbody tr th {\n",
              "        vertical-align: top;\n",
              "    }\n",
              "\n",
              "    .dataframe thead th {\n",
              "        text-align: right;\n",
              "    }\n",
              "</style>\n",
              "<table border=\"1\" class=\"dataframe\">\n",
              "  <thead>\n",
              "    <tr style=\"text-align: right;\">\n",
              "      <th></th>\n",
              "      <th>TEST ID</th>\n",
              "      <th>TEST DATE / UTC HOUR</th>\n",
              "      <th>GEO LATITUDE</th>\n",
              "      <th>GEO LONGITUDE</th>\n",
              "      <th>DOWNLOAD SPEED</th>\n",
              "      <th>UPLOAD SPEED</th>\n",
              "      <th>JITTER</th>\n",
              "      <th>LATENCY</th>\n",
              "      <th>PACKET LOSS</th>\n",
              "      <th>MOBILE TEST</th>\n",
              "      <th>...</th>\n",
              "      <th>CONTRACTED UPLOAD SPEED</th>\n",
              "      <th>CONTRACTED DATA CAP</th>\n",
              "      <th>CONTRACTED MONTHLY COST</th>\n",
              "      <th>SERVICE TYPE</th>\n",
              "      <th>USER SATISFACTION</th>\n",
              "      <th>CONNECTION TYPE</th>\n",
              "      <th>USER COMMENTS</th>\n",
              "      <th>HEATMAP_MUNICIPALITY</th>\n",
              "      <th>HEATMAP_CENSUS_TRACTS</th>\n",
              "      <th>HEATMAP_PROJECT_AREA</th>\n",
              "    </tr>\n",
              "  </thead>\n",
              "  <tbody>\n",
              "    <tr>\n",
              "      <th>0</th>\n",
              "      <td>261</td>\n",
              "      <td>2015-05-23 10:00:13</td>\n",
              "      <td>49.869556</td>\n",
              "      <td>-97.296739</td>\n",
              "      <td>16.22</td>\n",
              "      <td>2.79</td>\n",
              "      <td>NaN</td>\n",
              "      <td>NaN</td>\n",
              "      <td>NaN</td>\n",
              "      <td>False</td>\n",
              "      <td>...</td>\n",
              "      <td>NaN</td>\n",
              "      <td>NaN</td>\n",
              "      <td>NaN</td>\n",
              "      <td>NaN</td>\n",
              "      <td>NaN</td>\n",
              "      <td>NaN</td>\n",
              "      <td>NaN</td>\n",
              "      <td>Winnipeg</td>\n",
              "      <td>6020537.02</td>\n",
              "      <td>NaN</td>\n",
              "    </tr>\n",
              "    <tr>\n",
              "      <th>1</th>\n",
              "      <td>284</td>\n",
              "      <td>2015-05-20 10:01:05</td>\n",
              "      <td>49.852738</td>\n",
              "      <td>-97.270058</td>\n",
              "      <td>14.89</td>\n",
              "      <td>2.74</td>\n",
              "      <td>NaN</td>\n",
              "      <td>NaN</td>\n",
              "      <td>NaN</td>\n",
              "      <td>False</td>\n",
              "      <td>...</td>\n",
              "      <td>NaN</td>\n",
              "      <td>NaN</td>\n",
              "      <td>NaN</td>\n",
              "      <td>NaN</td>\n",
              "      <td>NaN</td>\n",
              "      <td>NaN</td>\n",
              "      <td>NaN</td>\n",
              "      <td>Winnipeg</td>\n",
              "      <td>6020522.02</td>\n",
              "      <td>NaN</td>\n",
              "    </tr>\n",
              "    <tr>\n",
              "      <th>2</th>\n",
              "      <td>622</td>\n",
              "      <td>2015-05-19 10:00:28</td>\n",
              "      <td>49.887575</td>\n",
              "      <td>-97.140091</td>\n",
              "      <td>9.89</td>\n",
              "      <td>5.64</td>\n",
              "      <td>NaN</td>\n",
              "      <td>NaN</td>\n",
              "      <td>NaN</td>\n",
              "      <td>False</td>\n",
              "      <td>...</td>\n",
              "      <td>NaN</td>\n",
              "      <td>NaN</td>\n",
              "      <td>NaN</td>\n",
              "      <td>NaN</td>\n",
              "      <td>NaN</td>\n",
              "      <td>NaN</td>\n",
              "      <td>NaN</td>\n",
              "      <td>Winnipeg</td>\n",
              "      <td>6020014.00</td>\n",
              "      <td>NaN</td>\n",
              "    </tr>\n",
              "    <tr>\n",
              "      <th>3</th>\n",
              "      <td>701</td>\n",
              "      <td>2015-05-24 10:00:08</td>\n",
              "      <td>49.814284</td>\n",
              "      <td>-97.160235</td>\n",
              "      <td>10.62</td>\n",
              "      <td>2.09</td>\n",
              "      <td>NaN</td>\n",
              "      <td>NaN</td>\n",
              "      <td>NaN</td>\n",
              "      <td>False</td>\n",
              "      <td>...</td>\n",
              "      <td>NaN</td>\n",
              "      <td>NaN</td>\n",
              "      <td>NaN</td>\n",
              "      <td>NaN</td>\n",
              "      <td>NaN</td>\n",
              "      <td>NaN</td>\n",
              "      <td>NaN</td>\n",
              "      <td>Winnipeg</td>\n",
              "      <td>6020501.02</td>\n",
              "      <td>NaN</td>\n",
              "    </tr>\n",
              "    <tr>\n",
              "      <th>4</th>\n",
              "      <td>707</td>\n",
              "      <td>2015-05-19 10:00:19</td>\n",
              "      <td>49.882706</td>\n",
              "      <td>-97.161829</td>\n",
              "      <td>9.89</td>\n",
              "      <td>2.60</td>\n",
              "      <td>NaN</td>\n",
              "      <td>NaN</td>\n",
              "      <td>NaN</td>\n",
              "      <td>False</td>\n",
              "      <td>...</td>\n",
              "      <td>NaN</td>\n",
              "      <td>NaN</td>\n",
              "      <td>NaN</td>\n",
              "      <td>NaN</td>\n",
              "      <td>NaN</td>\n",
              "      <td>NaN</td>\n",
              "      <td>NaN</td>\n",
              "      <td>Winnipeg</td>\n",
              "      <td>6020016.00</td>\n",
              "      <td>NaN</td>\n",
              "    </tr>\n",
              "    <tr>\n",
              "      <th>5</th>\n",
              "      <td>765</td>\n",
              "      <td>2015-05-19 10:00:21</td>\n",
              "      <td>49.897501</td>\n",
              "      <td>-97.136397</td>\n",
              "      <td>10.53</td>\n",
              "      <td>0.70</td>\n",
              "      <td>NaN</td>\n",
              "      <td>NaN</td>\n",
              "      <td>NaN</td>\n",
              "      <td>False</td>\n",
              "      <td>...</td>\n",
              "      <td>NaN</td>\n",
              "      <td>NaN</td>\n",
              "      <td>NaN</td>\n",
              "      <td>NaN</td>\n",
              "      <td>NaN</td>\n",
              "      <td>NaN</td>\n",
              "      <td>NaN</td>\n",
              "      <td>Winnipeg</td>\n",
              "      <td>6020024.00</td>\n",
              "      <td>NaN</td>\n",
              "    </tr>\n",
              "    <tr>\n",
              "      <th>6</th>\n",
              "      <td>831</td>\n",
              "      <td>2015-05-16 10:00:30</td>\n",
              "      <td>49.946880</td>\n",
              "      <td>-97.058317</td>\n",
              "      <td>5.79</td>\n",
              "      <td>0.56</td>\n",
              "      <td>NaN</td>\n",
              "      <td>NaN</td>\n",
              "      <td>NaN</td>\n",
              "      <td>False</td>\n",
              "      <td>...</td>\n",
              "      <td>NaN</td>\n",
              "      <td>NaN</td>\n",
              "      <td>NaN</td>\n",
              "      <td>NaN</td>\n",
              "      <td>NaN</td>\n",
              "      <td>NaN</td>\n",
              "      <td>NaN</td>\n",
              "      <td>Winnipeg</td>\n",
              "      <td>6020142.02</td>\n",
              "      <td>NaN</td>\n",
              "    </tr>\n",
              "    <tr>\n",
              "      <th>7</th>\n",
              "      <td>972</td>\n",
              "      <td>2015-05-16 10:00:33</td>\n",
              "      <td>49.878963</td>\n",
              "      <td>-97.158439</td>\n",
              "      <td>5.79</td>\n",
              "      <td>0.81</td>\n",
              "      <td>NaN</td>\n",
              "      <td>NaN</td>\n",
              "      <td>NaN</td>\n",
              "      <td>False</td>\n",
              "      <td>...</td>\n",
              "      <td>NaN</td>\n",
              "      <td>NaN</td>\n",
              "      <td>NaN</td>\n",
              "      <td>NaN</td>\n",
              "      <td>NaN</td>\n",
              "      <td>NaN</td>\n",
              "      <td>NaN</td>\n",
              "      <td>Winnipeg</td>\n",
              "      <td>6020015.00</td>\n",
              "      <td>NaN</td>\n",
              "    </tr>\n",
              "    <tr>\n",
              "      <th>8</th>\n",
              "      <td>1110</td>\n",
              "      <td>2015-05-19 10:00:23</td>\n",
              "      <td>49.846671</td>\n",
              "      <td>-97.257653</td>\n",
              "      <td>1.88</td>\n",
              "      <td>1.81</td>\n",
              "      <td>NaN</td>\n",
              "      <td>NaN</td>\n",
              "      <td>NaN</td>\n",
              "      <td>False</td>\n",
              "      <td>...</td>\n",
              "      <td>NaN</td>\n",
              "      <td>NaN</td>\n",
              "      <td>NaN</td>\n",
              "      <td>NaN</td>\n",
              "      <td>NaN</td>\n",
              "      <td>NaN</td>\n",
              "      <td>NaN</td>\n",
              "      <td>Winnipeg</td>\n",
              "      <td>6020522.02</td>\n",
              "      <td>NaN</td>\n",
              "    </tr>\n",
              "    <tr>\n",
              "      <th>9</th>\n",
              "      <td>1147</td>\n",
              "      <td>2015-05-20 10:01:16</td>\n",
              "      <td>49.937924</td>\n",
              "      <td>-97.118305</td>\n",
              "      <td>10.58</td>\n",
              "      <td>2.76</td>\n",
              "      <td>NaN</td>\n",
              "      <td>NaN</td>\n",
              "      <td>NaN</td>\n",
              "      <td>False</td>\n",
              "      <td>...</td>\n",
              "      <td>NaN</td>\n",
              "      <td>NaN</td>\n",
              "      <td>NaN</td>\n",
              "      <td>NaN</td>\n",
              "      <td>NaN</td>\n",
              "      <td>NaN</td>\n",
              "      <td>NaN</td>\n",
              "      <td>Winnipeg</td>\n",
              "      <td>6020551.00</td>\n",
              "      <td>NaN</td>\n",
              "    </tr>\n",
              "  </tbody>\n",
              "</table>\n",
              "<p>10 rows × 31 columns</p>\n",
              "</div>\n",
              "      <button class=\"colab-df-convert\" onclick=\"convertToInteractive('df-833b7426-8d51-4f4a-a2d4-d5bbc74430c8')\"\n",
              "              title=\"Convert this dataframe to an interactive table.\"\n",
              "              style=\"display:none;\">\n",
              "        \n",
              "  <svg xmlns=\"http://www.w3.org/2000/svg\" height=\"24px\"viewBox=\"0 0 24 24\"\n",
              "       width=\"24px\">\n",
              "    <path d=\"M0 0h24v24H0V0z\" fill=\"none\"/>\n",
              "    <path d=\"M18.56 5.44l.94 2.06.94-2.06 2.06-.94-2.06-.94-.94-2.06-.94 2.06-2.06.94zm-11 1L8.5 8.5l.94-2.06 2.06-.94-2.06-.94L8.5 2.5l-.94 2.06-2.06.94zm10 10l.94 2.06.94-2.06 2.06-.94-2.06-.94-.94-2.06-.94 2.06-2.06.94z\"/><path d=\"M17.41 7.96l-1.37-1.37c-.4-.4-.92-.59-1.43-.59-.52 0-1.04.2-1.43.59L10.3 9.45l-7.72 7.72c-.78.78-.78 2.05 0 2.83L4 21.41c.39.39.9.59 1.41.59.51 0 1.02-.2 1.41-.59l7.78-7.78 2.81-2.81c.8-.78.8-2.07 0-2.86zM5.41 20L4 18.59l7.72-7.72 1.47 1.35L5.41 20z\"/>\n",
              "  </svg>\n",
              "      </button>\n",
              "      \n",
              "  <style>\n",
              "    .colab-df-container {\n",
              "      display:flex;\n",
              "      flex-wrap:wrap;\n",
              "      gap: 12px;\n",
              "    }\n",
              "\n",
              "    .colab-df-convert {\n",
              "      background-color: #E8F0FE;\n",
              "      border: none;\n",
              "      border-radius: 50%;\n",
              "      cursor: pointer;\n",
              "      display: none;\n",
              "      fill: #1967D2;\n",
              "      height: 32px;\n",
              "      padding: 0 0 0 0;\n",
              "      width: 32px;\n",
              "    }\n",
              "\n",
              "    .colab-df-convert:hover {\n",
              "      background-color: #E2EBFA;\n",
              "      box-shadow: 0px 1px 2px rgba(60, 64, 67, 0.3), 0px 1px 3px 1px rgba(60, 64, 67, 0.15);\n",
              "      fill: #174EA6;\n",
              "    }\n",
              "\n",
              "    [theme=dark] .colab-df-convert {\n",
              "      background-color: #3B4455;\n",
              "      fill: #D2E3FC;\n",
              "    }\n",
              "\n",
              "    [theme=dark] .colab-df-convert:hover {\n",
              "      background-color: #434B5C;\n",
              "      box-shadow: 0px 1px 3px 1px rgba(0, 0, 0, 0.15);\n",
              "      filter: drop-shadow(0px 1px 2px rgba(0, 0, 0, 0.3));\n",
              "      fill: #FFFFFF;\n",
              "    }\n",
              "  </style>\n",
              "\n",
              "      <script>\n",
              "        const buttonEl =\n",
              "          document.querySelector('#df-833b7426-8d51-4f4a-a2d4-d5bbc74430c8 button.colab-df-convert');\n",
              "        buttonEl.style.display =\n",
              "          google.colab.kernel.accessAllowed ? 'block' : 'none';\n",
              "\n",
              "        async function convertToInteractive(key) {\n",
              "          const element = document.querySelector('#df-833b7426-8d51-4f4a-a2d4-d5bbc74430c8');\n",
              "          const dataTable =\n",
              "            await google.colab.kernel.invokeFunction('convertToInteractive',\n",
              "                                                     [key], {});\n",
              "          if (!dataTable) return;\n",
              "\n",
              "          const docLinkHtml = 'Like what you see? Visit the ' +\n",
              "            '<a target=\"_blank\" href=https://colab.research.google.com/notebooks/data_table.ipynb>data table notebook</a>'\n",
              "            + ' to learn more about interactive tables.';\n",
              "          element.innerHTML = '';\n",
              "          dataTable['output_type'] = 'display_data';\n",
              "          await google.colab.output.renderOutput(dataTable, element);\n",
              "          const docLink = document.createElement('div');\n",
              "          docLink.innerHTML = docLinkHtml;\n",
              "          element.appendChild(docLink);\n",
              "        }\n",
              "      </script>\n",
              "    </div>\n",
              "  </div>\n",
              "  "
            ]
          },
          "metadata": {}
        }
      ]
    },
    {
      "cell_type": "markdown",
      "source": [
        "Confirming the number of rows and columns, respectively"
      ],
      "metadata": {
        "id": "IODo7dDwDeoU"
      }
    },
    {
      "cell_type": "code",
      "source": [
        "necoriginal.shape"
      ],
      "metadata": {
        "colab": {
          "base_uri": "https://localhost:8080/"
        },
        "id": "HgbG3QnzDlNB",
        "outputId": "cf88db3e-8eaa-4a96-ebb8-cd5c29ae42e6"
      },
      "execution_count": 56,
      "outputs": [
        {
          "output_type": "execute_result",
          "data": {
            "text/plain": [
              "(19928, 31)"
            ]
          },
          "metadata": {},
          "execution_count": 56
        }
      ]
    },
    {
      "cell_type": "markdown",
      "source": [
        "Having trouble locating/executing csv file in here. Checking to see the working directory"
      ],
      "metadata": {
        "id": "b5P4f8d2aZkr"
      }
    },
    {
      "cell_type": "code",
      "source": [
        "import os\n",
        "print(os.getcwd())"
      ],
      "metadata": {
        "colab": {
          "base_uri": "https://localhost:8080/"
        },
        "id": "zmBTM-7rZjzK",
        "outputId": "650b1555-9669-4659-e55b-152a62602cd7"
      },
      "execution_count": 57,
      "outputs": [
        {
          "output_type": "stream",
          "name": "stdout",
          "text": [
            "/content\n"
          ]
        }
      ]
    },
    {
      "cell_type": "markdown",
      "source": [
        "Checking for duplicates in the TEST ID column"
      ],
      "metadata": {
        "id": "wKb1PmM0ggkU"
      }
    },
    {
      "cell_type": "code",
      "source": [
        "# Count the number of duplicated TEST ID values\n",
        "num_duplicates = df.duplicated(subset='TEST ID', keep=False).sum()\n",
        "\n",
        "# Print the number of duplicates\n",
        "print(f\"There are {num_duplicates} rows with duplicated TEST ID values.\")"
      ],
      "metadata": {
        "colab": {
          "base_uri": "https://localhost:8080/"
        },
        "id": "ez24zJwZgaaP",
        "outputId": "0bc14b69-e0bf-4405-bffd-14e90821e32d"
      },
      "execution_count": 58,
      "outputs": [
        {
          "output_type": "stream",
          "name": "stdout",
          "text": [
            "There are 0 rows with duplicated TEST ID values.\n"
          ]
        }
      ]
    },
    {
      "cell_type": "markdown",
      "source": [
        "Looking for duplicate rows"
      ],
      "metadata": {
        "id": "CTa358_gyxKg"
      }
    },
    {
      "cell_type": "code",
      "source": [
        "# Find duplicate rows based on all columns\n",
        "duplicates = df[df.duplicated()]\n",
        "\n",
        "# Display the duplicate rows (if any)\n",
        "if len(duplicates) > 0:\n",
        "    print(f\"Found {len(duplicates)} duplicate rows:\")\n",
        "    print(duplicates)\n",
        "else:\n",
        "    print(\"No duplicate rows found.\")"
      ],
      "metadata": {
        "colab": {
          "base_uri": "https://localhost:8080/"
        },
        "id": "RBy34o8zyrO9",
        "outputId": "9a2432eb-7f3f-4ed5-c636-7e3cbaa0630f"
      },
      "execution_count": 59,
      "outputs": [
        {
          "output_type": "stream",
          "name": "stdout",
          "text": [
            "No duplicate rows found.\n"
          ]
        }
      ]
    },
    {
      "cell_type": "markdown",
      "source": [
        "Checking to see how many missing cells in the CLIENT CITY column"
      ],
      "metadata": {
        "id": "quVa5ZyrvT2V"
      }
    },
    {
      "cell_type": "code",
      "source": [
        "df = pd.read_csv('https://raw.githubusercontent.com/ShanChartrand/NECDataCleaning/main/necoriginal.csv')\n",
        "\n",
        "missing_cells = df['CLIENT CITY'].isnull().sum()\n",
        "\n",
        "print(missing_cells)"
      ],
      "metadata": {
        "colab": {
          "base_uri": "https://localhost:8080/"
        },
        "id": "cqIyCwH4vKgX",
        "outputId": "04dcaa02-3a2f-4cbd-bd09-4a159228d9fb"
      },
      "execution_count": 60,
      "outputs": [
        {
          "output_type": "stream",
          "name": "stdout",
          "text": [
            "55\n"
          ]
        }
      ]
    },
    {
      "cell_type": "markdown",
      "source": [
        "Using Longitude and Latitude to fill in the missing CLIENT CITY cells"
      ],
      "metadata": {
        "id": "7KoCbS-c8UVZ"
      }
    },
    {
      "cell_type": "code",
      "source": [
        "import pandas as pd\n",
        "from geopy.geocoders import Nominatim\n",
        "\n",
        "# Load the CSV file into a Pandas DataFrame\n",
        "df = pd.read_csv('https://raw.githubusercontent.com/ShanChartrand/NECDataCleaning/main/necoriginal.csv')\n",
        "\n",
        "# Create a geolocator object\n",
        "geolocator = Nominatim(user_agent=\"my-app\")\n",
        "\n",
        "# Define a function to perform reverse geocoding and return the city name\n",
        "def reverse_geocode(lat, lon):\n",
        "    location = geolocator.reverse(f\"{lat}, {lon}\")\n",
        "    return location.raw['address']['city'] if 'city' in location.raw['address'] else None\n",
        "\n",
        "# Fill in missing CLIENT CITY values using reverse geocoding\n",
        "df['CLIENT CITY'] = df.apply(lambda row: reverse_geocode(row['GEO LATITUDE'], row['GEO LONGITUDE']) if pd.isnull(row['CLIENT CITY']) else row['CLIENT CITY'], axis=1)\n",
        "\n",
        "# Save the updated DataFrame to a new CSV file\n",
        "df.to_csv('https://raw.githubusercontent.com/ShanChartrand/NECDataCleaning/main/necoriginal.csv', index=False)\n",
        "\n",
        "#Confirming there are no missing values\n",
        "missing_cells = df['CLIENT CITY'].isnull().sum()\n",
        "\n",
        "print(missing_cells)\n"
      ],
      "metadata": {
        "colab": {
          "base_uri": "https://localhost:8080/"
        },
        "id": "UJ8bK_xhwaIx",
        "outputId": "f6a2cab5-954d-4e00-8e7b-2ab62ebbccf6"
      },
      "execution_count": 61,
      "outputs": [
        {
          "output_type": "stream",
          "name": "stdout",
          "text": [
            "0\n"
          ]
        }
      ]
    },
    {
      "cell_type": "markdown",
      "source": [
        "Searching for CLIENT CITY names that do not match the format \"Winnipeg\""
      ],
      "metadata": {
        "id": "rkMfwtJHbYqy"
      }
    },
    {
      "cell_type": "code",
      "source": [
        "# check if any values in CLIENT CITY column contain uppercase letters\n",
        "print(df[df['CLIENT CITY'].str.contains('[A-Z]')])\n",
        "\n",
        "# check if any values in CLIENT CITY column contain lowercase letters\n",
        "print(df[df['CLIENT CITY'].str.contains('[a-z]')])\n",
        "\n",
        "# check if any values in CLIENT CITY column contain abbreviations\n",
        "print(df[df['CLIENT CITY'].str.contains('\\.')])\n"
      ],
      "metadata": {
        "colab": {
          "base_uri": "https://localhost:8080/"
        },
        "id": "_a3dJDY7bfT6",
        "outputId": "26c9faff-ff6b-4d78-c4a3-97218e1e1e4d"
      },
      "execution_count": 62,
      "outputs": [
        {
          "output_type": "stream",
          "name": "stdout",
          "text": [
            "       TEST ID TEST DATE / UTC HOUR  GEO LATITUDE  GEO LONGITUDE  \\\n",
            "0          261  2015-05-23 10:00:13     49.869556     -97.296739   \n",
            "1          284  2015-05-20 10:01:05     49.852738     -97.270058   \n",
            "2          622  2015-05-19 10:00:28     49.887575     -97.140091   \n",
            "3          701  2015-05-24 10:00:08     49.814284     -97.160235   \n",
            "4          707  2015-05-19 10:00:19     49.882706     -97.161829   \n",
            "...        ...                  ...           ...            ...   \n",
            "19923  1662931  2023-04-05 16:15:48     49.951400     -97.113300   \n",
            "19924  1662951  2023-04-05 16:47:50     49.919200     -97.126300   \n",
            "19925  1663043  2023-04-05 22:54:16     49.896022     -96.974594   \n",
            "19926  1663045  2023-04-05 22:55:08     49.896022     -96.974594   \n",
            "19927  1663076  2023-04-06 02:06:32     49.895063     -97.138646   \n",
            "\n",
            "       DOWNLOAD SPEED  UPLOAD SPEED  JITTER  LATENCY  PACKET LOSS  \\\n",
            "0               16.22          2.79     NaN      NaN          NaN   \n",
            "1               14.89          2.74     NaN      NaN          NaN   \n",
            "2                9.89          5.64     NaN      NaN          NaN   \n",
            "3               10.62          2.09     NaN      NaN          NaN   \n",
            "4                9.89          2.60     NaN      NaN          NaN   \n",
            "...               ...           ...     ...      ...          ...   \n",
            "19923           49.58         16.34    6.79    66.70         0.00   \n",
            "19924           36.47          4.64    0.22    37.91         9.81   \n",
            "19925          329.08        325.71    1.86    28.00         0.00   \n",
            "19926          353.63        412.06    1.21    24.06         0.00   \n",
            "19927           84.27          5.31    1.21    57.63        16.49   \n",
            "\n",
            "       MOBILE TEST  ... CONTRACTED UPLOAD SPEED CONTRACTED DATA CAP  \\\n",
            "0            False  ...                     NaN                 NaN   \n",
            "1            False  ...                     NaN                 NaN   \n",
            "2            False  ...                     NaN                 NaN   \n",
            "3            False  ...                     NaN                 NaN   \n",
            "4            False  ...                     NaN                 NaN   \n",
            "...            ...  ...                     ...                 ...   \n",
            "19923        False  ...                     NaN                 NaN   \n",
            "19924        False  ...                     NaN                 NaN   \n",
            "19925         True  ...                    1000           Unlimited   \n",
            "19926         True  ...                    1000           Unlimited   \n",
            "19927        False  ...                     NaN                 NaN   \n",
            "\n",
            "      CONTRACTED MONTHLY COST SERVICE TYPE USER SATISFACTION CONNECTION TYPE  \\\n",
            "0                         NaN          NaN               NaN             NaN   \n",
            "1                         NaN          NaN               NaN             NaN   \n",
            "2                         NaN          NaN               NaN             NaN   \n",
            "3                         NaN          NaN               NaN             NaN   \n",
            "4                         NaN          NaN               NaN             NaN   \n",
            "...                       ...          ...               ...             ...   \n",
            "19923                     NaN          NaN               NaN             NaN   \n",
            "19924                     NaN          NaN               NaN             NaN   \n",
            "19925                     120         Home               2.0           Fibre   \n",
            "19926                     120         Home               2.0           Fibre   \n",
            "19927                     NaN          NaN               NaN             NaN   \n",
            "\n",
            "       USER COMMENTS  HEATMAP_MUNICIPALITY HEATMAP_CENSUS_TRACTS  \\\n",
            "0                NaN              Winnipeg            6020537.02   \n",
            "1                NaN              Winnipeg            6020522.02   \n",
            "2                NaN              Winnipeg            6020014.00   \n",
            "3                NaN              Winnipeg            6020501.02   \n",
            "4                NaN              Winnipeg            6020016.00   \n",
            "...              ...                   ...                   ...   \n",
            "19923            NaN              Winnipeg            6020553.00   \n",
            "19924            NaN              Winnipeg            6020041.00   \n",
            "19925           None              Winnipeg            6020120.05   \n",
            "19926           None              Winnipeg            6020120.05   \n",
            "19927            NaN              Winnipeg            6020013.00   \n",
            "\n",
            "      HEATMAP_PROJECT_AREA  \n",
            "0                      NaN  \n",
            "1                      NaN  \n",
            "2                      NaN  \n",
            "3                      NaN  \n",
            "4                      NaN  \n",
            "...                    ...  \n",
            "19923                  NaN  \n",
            "19924                  R2W  \n",
            "19925                  NaN  \n",
            "19926                  NaN  \n",
            "19927                  NaN  \n",
            "\n",
            "[19928 rows x 31 columns]\n",
            "       TEST ID TEST DATE / UTC HOUR  GEO LATITUDE  GEO LONGITUDE  \\\n",
            "0          261  2015-05-23 10:00:13     49.869556     -97.296739   \n",
            "1          284  2015-05-20 10:01:05     49.852738     -97.270058   \n",
            "2          622  2015-05-19 10:00:28     49.887575     -97.140091   \n",
            "3          701  2015-05-24 10:00:08     49.814284     -97.160235   \n",
            "4          707  2015-05-19 10:00:19     49.882706     -97.161829   \n",
            "...        ...                  ...           ...            ...   \n",
            "19923  1662931  2023-04-05 16:15:48     49.951400     -97.113300   \n",
            "19924  1662951  2023-04-05 16:47:50     49.919200     -97.126300   \n",
            "19925  1663043  2023-04-05 22:54:16     49.896022     -96.974594   \n",
            "19926  1663045  2023-04-05 22:55:08     49.896022     -96.974594   \n",
            "19927  1663076  2023-04-06 02:06:32     49.895063     -97.138646   \n",
            "\n",
            "       DOWNLOAD SPEED  UPLOAD SPEED  JITTER  LATENCY  PACKET LOSS  \\\n",
            "0               16.22          2.79     NaN      NaN          NaN   \n",
            "1               14.89          2.74     NaN      NaN          NaN   \n",
            "2                9.89          5.64     NaN      NaN          NaN   \n",
            "3               10.62          2.09     NaN      NaN          NaN   \n",
            "4                9.89          2.60     NaN      NaN          NaN   \n",
            "...               ...           ...     ...      ...          ...   \n",
            "19923           49.58         16.34    6.79    66.70         0.00   \n",
            "19924           36.47          4.64    0.22    37.91         9.81   \n",
            "19925          329.08        325.71    1.86    28.00         0.00   \n",
            "19926          353.63        412.06    1.21    24.06         0.00   \n",
            "19927           84.27          5.31    1.21    57.63        16.49   \n",
            "\n",
            "       MOBILE TEST  ... CONTRACTED UPLOAD SPEED CONTRACTED DATA CAP  \\\n",
            "0            False  ...                     NaN                 NaN   \n",
            "1            False  ...                     NaN                 NaN   \n",
            "2            False  ...                     NaN                 NaN   \n",
            "3            False  ...                     NaN                 NaN   \n",
            "4            False  ...                     NaN                 NaN   \n",
            "...            ...  ...                     ...                 ...   \n",
            "19923        False  ...                     NaN                 NaN   \n",
            "19924        False  ...                     NaN                 NaN   \n",
            "19925         True  ...                    1000           Unlimited   \n",
            "19926         True  ...                    1000           Unlimited   \n",
            "19927        False  ...                     NaN                 NaN   \n",
            "\n",
            "      CONTRACTED MONTHLY COST SERVICE TYPE USER SATISFACTION CONNECTION TYPE  \\\n",
            "0                         NaN          NaN               NaN             NaN   \n",
            "1                         NaN          NaN               NaN             NaN   \n",
            "2                         NaN          NaN               NaN             NaN   \n",
            "3                         NaN          NaN               NaN             NaN   \n",
            "4                         NaN          NaN               NaN             NaN   \n",
            "...                       ...          ...               ...             ...   \n",
            "19923                     NaN          NaN               NaN             NaN   \n",
            "19924                     NaN          NaN               NaN             NaN   \n",
            "19925                     120         Home               2.0           Fibre   \n",
            "19926                     120         Home               2.0           Fibre   \n",
            "19927                     NaN          NaN               NaN             NaN   \n",
            "\n",
            "       USER COMMENTS  HEATMAP_MUNICIPALITY HEATMAP_CENSUS_TRACTS  \\\n",
            "0                NaN              Winnipeg            6020537.02   \n",
            "1                NaN              Winnipeg            6020522.02   \n",
            "2                NaN              Winnipeg            6020014.00   \n",
            "3                NaN              Winnipeg            6020501.02   \n",
            "4                NaN              Winnipeg            6020016.00   \n",
            "...              ...                   ...                   ...   \n",
            "19923            NaN              Winnipeg            6020553.00   \n",
            "19924            NaN              Winnipeg            6020041.00   \n",
            "19925           None              Winnipeg            6020120.05   \n",
            "19926           None              Winnipeg            6020120.05   \n",
            "19927            NaN              Winnipeg            6020013.00   \n",
            "\n",
            "      HEATMAP_PROJECT_AREA  \n",
            "0                      NaN  \n",
            "1                      NaN  \n",
            "2                      NaN  \n",
            "3                      NaN  \n",
            "4                      NaN  \n",
            "...                    ...  \n",
            "19923                  NaN  \n",
            "19924                  R2W  \n",
            "19925                  NaN  \n",
            "19926                  NaN  \n",
            "19927                  NaN  \n",
            "\n",
            "[19928 rows x 31 columns]\n",
            "      TEST ID TEST DATE / UTC HOUR  GEO LATITUDE  GEO LONGITUDE  \\\n",
            "97       6270  2015-05-22 10:00:26     49.906871     -97.026015   \n",
            "352     19885  2015-05-22 10:00:24     49.906871     -97.026015   \n",
            "369     20526  2015-05-22 10:00:26     49.906871     -97.026015   \n",
            "448     25560  2015-05-22 10:00:26     49.906871     -97.026015   \n",
            "640     35792  2015-05-22 10:00:26     49.906871     -97.026015   \n",
            "643     35909  2015-05-22 10:00:24     49.906871     -97.026015   \n",
            "891     48688  2015-05-22 10:00:26     49.906871     -97.026015   \n",
            "1001    54427  2015-05-22 10:00:26     49.906871     -97.026015   \n",
            "1101    60099  2015-05-22 10:00:26     49.906871     -97.026015   \n",
            "1281    69464  2015-05-22 10:00:25     49.906871     -97.026015   \n",
            "2571   361270  2016-01-18 20:35:20     49.923156     -97.133518   \n",
            "\n",
            "      DOWNLOAD SPEED  UPLOAD SPEED  JITTER  LATENCY  PACKET LOSS  MOBILE TEST  \\\n",
            "97             13.83          2.74     NaN      NaN          NaN        False   \n",
            "352            19.55          2.81     NaN      NaN          NaN        False   \n",
            "369            15.00          2.76     NaN      NaN          NaN        False   \n",
            "448             7.44          2.72     NaN      NaN          NaN        False   \n",
            "640            14.53          2.78     NaN      NaN          NaN        False   \n",
            "643            18.34          2.79     NaN      NaN          NaN        False   \n",
            "891             7.07          2.79     NaN      NaN          NaN        False   \n",
            "1001            9.30          2.67     NaN      NaN          NaN        False   \n",
            "1101           15.32          2.81     NaN      NaN          NaN        False   \n",
            "1281           12.78          2.77     NaN      NaN          NaN        False   \n",
            "2571           10.42          0.83     NaN      NaN          NaN        False   \n",
            "\n",
            "      ... CONTRACTED UPLOAD SPEED CONTRACTED DATA CAP CONTRACTED MONTHLY COST  \\\n",
            "97    ...                     NaN                 NaN                     NaN   \n",
            "352   ...                     NaN                 NaN                     NaN   \n",
            "369   ...                     NaN                 NaN                     NaN   \n",
            "448   ...                     NaN                 NaN                     NaN   \n",
            "640   ...                     NaN                 NaN                     NaN   \n",
            "643   ...                     NaN                 NaN                     NaN   \n",
            "891   ...                     NaN                 NaN                     NaN   \n",
            "1001  ...                     NaN                 NaN                     NaN   \n",
            "1101  ...                     NaN                 NaN                     NaN   \n",
            "1281  ...                     NaN                 NaN                     NaN   \n",
            "2571  ...                     NaN                 NaN                     NaN   \n",
            "\n",
            "     SERVICE TYPE USER SATISFACTION CONNECTION TYPE  USER COMMENTS  \\\n",
            "97            NaN               NaN             NaN            NaN   \n",
            "352           NaN               NaN             NaN            NaN   \n",
            "369           NaN               NaN             NaN            NaN   \n",
            "448           NaN               NaN             NaN            NaN   \n",
            "640           NaN               NaN             NaN            NaN   \n",
            "643           NaN               NaN             NaN            NaN   \n",
            "891           NaN               NaN             NaN            NaN   \n",
            "1001          NaN               NaN             NaN            NaN   \n",
            "1101          NaN               NaN             NaN            NaN   \n",
            "1281          NaN               NaN             NaN            NaN   \n",
            "2571          NaN               NaN             NaN            NaN   \n",
            "\n",
            "      HEATMAP_MUNICIPALITY HEATMAP_CENSUS_TRACTS HEATMAP_PROJECT_AREA  \n",
            "97                Winnipeg            6020140.04                  NaN  \n",
            "352               Winnipeg            6020140.04                  NaN  \n",
            "369               Winnipeg            6020140.04                  NaN  \n",
            "448               Winnipeg            6020140.04                  NaN  \n",
            "640               Winnipeg            6020140.04                  NaN  \n",
            "643               Winnipeg            6020140.04                  NaN  \n",
            "891               Winnipeg            6020140.04                  NaN  \n",
            "1001              Winnipeg            6020140.04                  NaN  \n",
            "1101              Winnipeg            6020140.04                  NaN  \n",
            "1281              Winnipeg            6020140.04                  NaN  \n",
            "2571              Winnipeg            6020042.00                  R2W  \n",
            "\n",
            "[11 rows x 31 columns]\n"
          ]
        }
      ]
    },
    {
      "cell_type": "code",
      "source": [
        "import pandas as pd\n",
        "\n",
        "\n",
        "# Define a function to check if a string is in the correct format\n",
        "def is_correct_format(s):\n",
        "    # Check if the string is not empty or null, and is not an abbreviation\n",
        "    if s and len(s) > 2:\n",
        "        # Check if the first letter is uppercase and the rest are lowercase\n",
        "        if s[0].isupper() and s[1:].islower():\n",
        "            return True\n",
        "    return False\n",
        "\n",
        "# Create a boolean mask to find rows where the CLIENT CITY column is not in the correct format\n",
        "mask = ~df['CLIENT CITY'].apply(is_correct_format)\n",
        "\n",
        "# Filter the dataframe to show only rows where CLIENT CITY is not in the correct format\n",
        "filtered_df = df[mask]\n",
        "\n",
        "# Display the filtered dataframe\n",
        "print(filtered_df.loc[:, 'CLIENT CITY'])\n",
        "\n",
        "print(is_correct_format)"
      ],
      "metadata": {
        "colab": {
          "base_uri": "https://localhost:8080/"
        },
        "id": "gV8EwXirfFVW",
        "outputId": "6d0e32a3-7e84-4365-ba89-4eb15d7af772"
      },
      "execution_count": 63,
      "outputs": [
        {
          "output_type": "stream",
          "name": "stdout",
          "text": [
            "97       Sault Ste. Marie\n",
            "352      Sault Ste. Marie\n",
            "363             Moose Jaw\n",
            "369      Sault Ste. Marie\n",
            "448      Sault Ste. Marie\n",
            "               ...       \n",
            "15811         Thunder Bay\n",
            "16109     Heritage Pointe\n",
            "16110     Heritage Pointe\n",
            "16742         Cooks Creek\n",
            "16857           Moose Jaw\n",
            "Name: CLIENT CITY, Length: 118, dtype: object\n",
            "<function is_correct_format at 0x7f5c9aa57e20>\n"
          ]
        }
      ]
    },
    {
      "cell_type": "markdown",
      "source": [
        "Using CLIENT CITY to fill in missing CLIENT PROVINCE values - this code will use the same format as CLIENT PROVINCE"
      ],
      "metadata": {
        "id": "2DsbtWzA3Hhp"
      }
    },
    {
      "cell_type": "code",
      "source": [
        "df['CLIENT PROVINCE'].fillna(df['CLIENT CITY'].str.split(',').str[-1], inplace=True)\n",
        "\n",
        "# Save the updated DataFrame to a new CSV file\n",
        "df.to_csv('https://raw.githubusercontent.com/ShanChartrand/NECDataCleaning/main/necoriginal.csv', index=False)"
      ],
      "metadata": {
        "id": "oEts5lEM2NIy"
      },
      "execution_count": 64,
      "outputs": []
    },
    {
      "cell_type": "markdown",
      "source": [
        "Confirming the CLIENT CITY & CLIENT PROVINCE have no missing values"
      ],
      "metadata": {
        "id": "NdWEiojB0HU6"
      }
    },
    {
      "cell_type": "code",
      "source": [
        "# Calculate the percentage of missing cells in each column\n",
        "missing_percentages = df.isna().sum() / len(df) * 100\n",
        "\n",
        "# Print the result\n",
        "print(missing_percentages)"
      ],
      "metadata": {
        "colab": {
          "base_uri": "https://localhost:8080/"
        },
        "id": "gB53sbk60AiN",
        "outputId": "6f258272-a2d1-45bf-e211-dd8d2f14491c"
      },
      "execution_count": 65,
      "outputs": [
        {
          "output_type": "stream",
          "name": "stdout",
          "text": [
            "TEST ID                       0.000000\n",
            "TEST DATE / UTC HOUR          0.000000\n",
            "GEO LATITUDE                  0.000000\n",
            "GEO LONGITUDE                 0.000000\n",
            "DOWNLOAD SPEED                0.000000\n",
            "UPLOAD SPEED                  0.000000\n",
            "JITTER                       40.395424\n",
            "LATENCY                      40.395424\n",
            "PACKET LOSS                  40.395424\n",
            "MOBILE TEST                   0.000000\n",
            "ISP                           0.005018\n",
            "CLIENT IP                     0.000000\n",
            "CLIENT CITY                   0.000000\n",
            "CLIENT PROVINCE               0.000000\n",
            "CLIENT POSTAL CODE            0.130470\n",
            "AS NUMBER                     0.105379\n",
            "IPV6 SUPPORTED                0.000000\n",
            "DNSSEC SUPPORTED              0.000000\n",
            "TEST SERVER                   0.000000\n",
            "browser_test_url             34.704938\n",
            "CONTRACTED DOWNLOAD SPEED    81.413087\n",
            "CONTRACTED UPLOAD SPEED      88.237656\n",
            "CONTRACTED DATA CAP          92.377559\n",
            "CONTRACTED MONTHLY COST      83.611000\n",
            "SERVICE TYPE                 78.577880\n",
            "USER SATISFACTION            83.470494\n",
            "CONNECTION TYPE              92.352469\n",
            "USER COMMENTS                75.165596\n",
            "HEATMAP_MUNICIPALITY          0.000000\n",
            "HEATMAP_CENSUS_TRACTS         0.000000\n",
            "HEATMAP_PROJECT_AREA         94.831393\n",
            "dtype: float64\n"
          ]
        }
      ]
    },
    {
      "cell_type": "code",
      "source": [
        "!pip install IPWhois"
      ],
      "metadata": {
        "colab": {
          "base_uri": "https://localhost:8080/"
        },
        "id": "gYKPzr0D5dMT",
        "outputId": "dcec865d-9cea-4ec5-d9db-3ae1bd4d4962"
      },
      "execution_count": 66,
      "outputs": [
        {
          "output_type": "stream",
          "name": "stdout",
          "text": [
            "Looking in indexes: https://pypi.org/simple, https://us-python.pkg.dev/colab-wheels/public/simple/\n",
            "Requirement already satisfied: IPWhois in /usr/local/lib/python3.10/dist-packages (1.2.0)\n",
            "Requirement already satisfied: dnspython<=2.0.0 in /usr/local/lib/python3.10/dist-packages (from IPWhois) (2.0.0)\n"
          ]
        }
      ]
    },
    {
      "cell_type": "code",
      "source": [
        "from ipwhois import IPWhois"
      ],
      "metadata": {
        "id": "l5f0Ruql59He"
      },
      "execution_count": 67,
      "outputs": []
    },
    {
      "cell_type": "markdown",
      "source": [
        "Standardizing all CLIENT CITY names e.g. Winnipeg"
      ],
      "metadata": {
        "id": "StR5Uh2BVa9I"
      }
    },
    {
      "cell_type": "code",
      "source": [
        "import pandas as pd\n",
        "\n",
        "# Read the CSV file into a Pandas DataFrame\n",
        "df = pd.read_csv('https://raw.githubusercontent.com/ShanChartrand/NECDataCleaning/main/necoriginal.csv')\n",
        "\n",
        "# Check for unique values in the CLIENT CITY column\n",
        "cities = df['CLIENT CITY'].unique()\n",
        "\n",
        "# Print the unique values\n",
        "print(cities)\n",
        "\n",
        "# Clean up the city names\n",
        "df['CLIENT CITY'] = df['CLIENT CITY'].str.title()  # Capitalize the first letter of each word\n",
        "df['CLIENT CITY'] = df['CLIENT CITY'].str.strip()  # Remove leading/trailing white spaces\n",
        "\n",
        "# Check for unique values again\n",
        "cities_cleaned = df['CLIENT CITY'].unique()\n",
        "\n",
        "# Save the updated dataframe to a new CSV file\n",
        "df.to_csv('https://raw.githubusercontent.com/ShanChartrand/NECDataCleaning/main/necoriginal.csv', index=False)\n",
        "\n",
        "# Print the unique cleaned values\n",
        "print(cities_cleaned)\n"
      ],
      "metadata": {
        "colab": {
          "base_uri": "https://localhost:8080/"
        },
        "id": "r4qXmPjTUld7",
        "outputId": "f28f637c-fa94-43a1-9af7-01b0153c277a"
      },
      "execution_count": 68,
      "outputs": [
        {
          "output_type": "stream",
          "name": "stdout",
          "text": [
            "['Winnipeg' nan 'Gimli' 'Sault Ste. Marie' 'Calgary' 'Moose Jaw' 'Winkler'\n",
            " 'Ottawa' 'Greater Sudbury' 'North York' 'Edmonton' 'Vancouver' 'Guelph'\n",
            " 'Winnipeg (Portage & Main)' 'Hamilton' 'Surrey' 'Notre Dame de Lourdes'\n",
            " 'Winnipeg (Tuxedo Industrials)' 'Barrie' 'Woodstock'\n",
            " 'Toronto (Etobicoke)' 'Creemore' 'Alliston' 'Calgary (Downtown)'\n",
            " 'St. Catharines' 'Toronto' 'Selkirk' 'Oak Bay' 'London' 'Kitchener'\n",
            " 'Wawanesa' 'Cambridge' 'Brantford' 'Nobleton' 'Beauharnois'\n",
            " 'Portage la Prairie' 'Roland' 'Caledon' 'Waterloo' 'Concord'\n",
            " 'Mississauga' 'Port Perry' 'Orangeville' 'Stony Mountain' 'Oakville'\n",
            " 'Brampton' 'Montreal' 'Toronto (Old Toronto)' 'Winnipeg (Downtown)'\n",
            " 'Angus' 'Thompson' 'Wabowden' 'Winnipeg (Sir John Franklin)'\n",
            " 'Winnipeg (Earl Grey)' 'Winnipeg (Kildare - Redonda)' 'Miami'\n",
            " 'Scarborough' 'Carman' 'Saint-Quentin' 'La Salle' 'Oakbank' 'Marathon'\n",
            " 'Georgetown' 'Port Hope' 'Thorold' 'Old Toronto' 'Blackstock' 'Lindsay'\n",
            " 'Charlemagne' 'Steinbach' 'Etobicoke' 'Brandon' 'Marchand' \"Baie-d'Urfe\"\n",
            " 'Stonewall' 'Markdale' 'Hartland' 'Kenora' 'Dowling' 'Bradford' 'Dryden'\n",
            " 'Regina' 'Thunder Bay' 'Sydney' 'Heritage Pointe' 'Cobourg' 'Cooks Creek'\n",
            " 'Teulon' 'Headingley' 'Hague' 'Markham' 'Chestermere' 'Peterborough']\n",
            "['Winnipeg' nan 'Gimli' 'Sault Ste. Marie' 'Calgary' 'Moose Jaw' 'Winkler'\n",
            " 'Ottawa' 'Greater Sudbury' 'North York' 'Edmonton' 'Vancouver' 'Guelph'\n",
            " 'Winnipeg (Portage & Main)' 'Hamilton' 'Surrey' 'Notre Dame De Lourdes'\n",
            " 'Winnipeg (Tuxedo Industrials)' 'Barrie' 'Woodstock'\n",
            " 'Toronto (Etobicoke)' 'Creemore' 'Alliston' 'Calgary (Downtown)'\n",
            " 'St. Catharines' 'Toronto' 'Selkirk' 'Oak Bay' 'London' 'Kitchener'\n",
            " 'Wawanesa' 'Cambridge' 'Brantford' 'Nobleton' 'Beauharnois'\n",
            " 'Portage La Prairie' 'Roland' 'Caledon' 'Waterloo' 'Concord'\n",
            " 'Mississauga' 'Port Perry' 'Orangeville' 'Stony Mountain' 'Oakville'\n",
            " 'Brampton' 'Montreal' 'Toronto (Old Toronto)' 'Winnipeg (Downtown)'\n",
            " 'Angus' 'Thompson' 'Wabowden' 'Winnipeg (Sir John Franklin)'\n",
            " 'Winnipeg (Earl Grey)' 'Winnipeg (Kildare - Redonda)' 'Miami'\n",
            " 'Scarborough' 'Carman' 'Saint-Quentin' 'La Salle' 'Oakbank' 'Marathon'\n",
            " 'Georgetown' 'Port Hope' 'Thorold' 'Old Toronto' 'Blackstock' 'Lindsay'\n",
            " 'Charlemagne' 'Steinbach' 'Etobicoke' 'Brandon' 'Marchand' \"Baie-D'Urfe\"\n",
            " 'Stonewall' 'Markdale' 'Hartland' 'Kenora' 'Dowling' 'Bradford' 'Dryden'\n",
            " 'Regina' 'Thunder Bay' 'Sydney' 'Heritage Pointe' 'Cobourg' 'Cooks Creek'\n",
            " 'Teulon' 'Headingley' 'Hague' 'Markham' 'Chestermere' 'Peterborough']\n"
          ]
        }
      ]
    }
  ]
}