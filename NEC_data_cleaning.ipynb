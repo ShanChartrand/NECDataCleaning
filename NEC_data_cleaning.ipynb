{
  "nbformat": 4,
  "nbformat_minor": 0,
  "metadata": {
    "colab": {
      "provenance": [],
      "authorship_tag": "ABX9TyN6xVOmvJmNYhCEuVqk27zE",
      "include_colab_link": true
    },
    "kernelspec": {
      "name": "python3",
      "display_name": "Python 3"
    },
    "language_info": {
      "name": "python"
    }
  },
  "cells": [
    {
      "cell_type": "markdown",
      "metadata": {
        "id": "view-in-github",
        "colab_type": "text"
      },
      "source": [
        "<a href=\"https://colab.research.google.com/github/ShanChartrand/NECDataCleaning/blob/main/NEC_data_cleaning.ipynb\" target=\"_parent\"><img src=\"https://colab.research.google.com/assets/colab-badge.svg\" alt=\"Open In Colab\"/></a>"
      ]
    },
    {
      "cell_type": "code",
      "execution_count": 21,
      "metadata": {
        "colab": {
          "base_uri": "https://localhost:8080/"
        },
        "id": "4d2va8Sp-3Z3",
        "outputId": "f0ca7505-0793-4702-8cce-ae286370edda"
      },
      "outputs": [
        {
          "output_type": "stream",
          "name": "stdout",
          "text": [
            "Looking in indexes: https://pypi.org/simple, https://us-python.pkg.dev/colab-wheels/public/simple/\n",
            "Requirement already satisfied: pandas in /usr/local/lib/python3.10/dist-packages (1.5.3)\n",
            "Requirement already satisfied: python-dateutil>=2.8.1 in /usr/local/lib/python3.10/dist-packages (from pandas) (2.8.2)\n",
            "Requirement already satisfied: numpy>=1.21.0 in /usr/local/lib/python3.10/dist-packages (from pandas) (1.22.4)\n",
            "Requirement already satisfied: pytz>=2020.1 in /usr/local/lib/python3.10/dist-packages (from pandas) (2022.7.1)\n",
            "Requirement already satisfied: six>=1.5 in /usr/local/lib/python3.10/dist-packages (from python-dateutil>=2.8.1->pandas) (1.16.0)\n"
          ]
        }
      ],
      "source": [
        "!pip install pandas\n",
        "import pandas as pd\n",
        "df = pd.read_csv('https://raw.githubusercontent.com/ShanChartrand/NECDataCleaning/main/necoriginal.csv')\n"
      ]
    },
    {
      "cell_type": "code",
      "source": [
        "# Read the North End Connect data file\n",
        "\n",
        "import pandas as pd\n",
        "import numpy as np\n",
        "import matplotlib.pyplot as plt\n",
        "import io\n",
        "import requests\n",
        "\n",
        "url=\"https://raw.githubusercontent.com/ShanChartrand/NECDataCleaning/main/necoriginal.csv\"\n",
        "s=requests.get(url).content\n",
        "necoriginal=pd.read_csv(io.StringIO(s.decode('utf-8')))\n",
        "\n",
        "# Display a few rows of the data to ensure the file is connected correctly\n",
        "\n",
        "display(necoriginal.head(10))\n",
        "\n"
      ],
      "metadata": {
        "colab": {
          "base_uri": "https://localhost:8080/",
          "height": 855
        },
        "id": "gqfqZuH2C4XL",
        "outputId": "cb0c58f5-d299-41bf-d418-f98e899bcfce"
      },
      "execution_count": 22,
      "outputs": [
        {
          "output_type": "display_data",
          "data": {
            "text/plain": [
              "   TEST ID TEST DATE / UTC HOUR  GEO LATITUDE  GEO LONGITUDE  DOWNLOAD SPEED  \\\n",
              "0      261  2015-05-23 10:00:13     49.869556     -97.296739           16.22   \n",
              "1      284  2015-05-20 10:01:05     49.852738     -97.270058           14.89   \n",
              "2      622  2015-05-19 10:00:28     49.887575     -97.140091            9.89   \n",
              "3      701  2015-05-24 10:00:08     49.814284     -97.160235           10.62   \n",
              "4      707  2015-05-19 10:00:19     49.882706     -97.161829            9.89   \n",
              "5      765  2015-05-19 10:00:21     49.897501     -97.136397           10.53   \n",
              "6      831  2015-05-16 10:00:30     49.946880     -97.058317            5.79   \n",
              "7      972  2015-05-16 10:00:33     49.878963     -97.158439            5.79   \n",
              "8     1110  2015-05-19 10:00:23     49.846671     -97.257653            1.88   \n",
              "9     1147  2015-05-20 10:01:16     49.937924     -97.118305           10.58   \n",
              "\n",
              "   UPLOAD SPEED  JITTER  LATENCY  PACKET LOSS  MOBILE TEST  ...  \\\n",
              "0          2.79     NaN      NaN          NaN        False  ...   \n",
              "1          2.74     NaN      NaN          NaN        False  ...   \n",
              "2          5.64     NaN      NaN          NaN        False  ...   \n",
              "3          2.09     NaN      NaN          NaN        False  ...   \n",
              "4          2.60     NaN      NaN          NaN        False  ...   \n",
              "5          0.70     NaN      NaN          NaN        False  ...   \n",
              "6          0.56     NaN      NaN          NaN        False  ...   \n",
              "7          0.81     NaN      NaN          NaN        False  ...   \n",
              "8          1.81     NaN      NaN          NaN        False  ...   \n",
              "9          2.76     NaN      NaN          NaN        False  ...   \n",
              "\n",
              "  CONTRACTED UPLOAD SPEED CONTRACTED DATA CAP CONTRACTED MONTHLY COST  \\\n",
              "0                     NaN                 NaN                     NaN   \n",
              "1                     NaN                 NaN                     NaN   \n",
              "2                     NaN                 NaN                     NaN   \n",
              "3                     NaN                 NaN                     NaN   \n",
              "4                     NaN                 NaN                     NaN   \n",
              "5                     NaN                 NaN                     NaN   \n",
              "6                     NaN                 NaN                     NaN   \n",
              "7                     NaN                 NaN                     NaN   \n",
              "8                     NaN                 NaN                     NaN   \n",
              "9                     NaN                 NaN                     NaN   \n",
              "\n",
              "  SERVICE TYPE USER SATISFACTION CONNECTION TYPE  USER COMMENTS  \\\n",
              "0          NaN               NaN             NaN            NaN   \n",
              "1          NaN               NaN             NaN            NaN   \n",
              "2          NaN               NaN             NaN            NaN   \n",
              "3          NaN               NaN             NaN            NaN   \n",
              "4          NaN               NaN             NaN            NaN   \n",
              "5          NaN               NaN             NaN            NaN   \n",
              "6          NaN               NaN             NaN            NaN   \n",
              "7          NaN               NaN             NaN            NaN   \n",
              "8          NaN               NaN             NaN            NaN   \n",
              "9          NaN               NaN             NaN            NaN   \n",
              "\n",
              "   HEATMAP_MUNICIPALITY HEATMAP_CENSUS_TRACTS HEATMAP_PROJECT_AREA  \n",
              "0              Winnipeg            6020537.02                  NaN  \n",
              "1              Winnipeg            6020522.02                  NaN  \n",
              "2              Winnipeg            6020014.00                  NaN  \n",
              "3              Winnipeg            6020501.02                  NaN  \n",
              "4              Winnipeg            6020016.00                  NaN  \n",
              "5              Winnipeg            6020024.00                  NaN  \n",
              "6              Winnipeg            6020142.02                  NaN  \n",
              "7              Winnipeg            6020015.00                  NaN  \n",
              "8              Winnipeg            6020522.02                  NaN  \n",
              "9              Winnipeg            6020551.00                  NaN  \n",
              "\n",
              "[10 rows x 31 columns]"
            ],
            "text/html": [
              "\n",
              "  <div id=\"df-a44ffa74-caa0-4067-991f-cf9b47a2ba78\">\n",
              "    <div class=\"colab-df-container\">\n",
              "      <div>\n",
              "<style scoped>\n",
              "    .dataframe tbody tr th:only-of-type {\n",
              "        vertical-align: middle;\n",
              "    }\n",
              "\n",
              "    .dataframe tbody tr th {\n",
              "        vertical-align: top;\n",
              "    }\n",
              "\n",
              "    .dataframe thead th {\n",
              "        text-align: right;\n",
              "    }\n",
              "</style>\n",
              "<table border=\"1\" class=\"dataframe\">\n",
              "  <thead>\n",
              "    <tr style=\"text-align: right;\">\n",
              "      <th></th>\n",
              "      <th>TEST ID</th>\n",
              "      <th>TEST DATE / UTC HOUR</th>\n",
              "      <th>GEO LATITUDE</th>\n",
              "      <th>GEO LONGITUDE</th>\n",
              "      <th>DOWNLOAD SPEED</th>\n",
              "      <th>UPLOAD SPEED</th>\n",
              "      <th>JITTER</th>\n",
              "      <th>LATENCY</th>\n",
              "      <th>PACKET LOSS</th>\n",
              "      <th>MOBILE TEST</th>\n",
              "      <th>...</th>\n",
              "      <th>CONTRACTED UPLOAD SPEED</th>\n",
              "      <th>CONTRACTED DATA CAP</th>\n",
              "      <th>CONTRACTED MONTHLY COST</th>\n",
              "      <th>SERVICE TYPE</th>\n",
              "      <th>USER SATISFACTION</th>\n",
              "      <th>CONNECTION TYPE</th>\n",
              "      <th>USER COMMENTS</th>\n",
              "      <th>HEATMAP_MUNICIPALITY</th>\n",
              "      <th>HEATMAP_CENSUS_TRACTS</th>\n",
              "      <th>HEATMAP_PROJECT_AREA</th>\n",
              "    </tr>\n",
              "  </thead>\n",
              "  <tbody>\n",
              "    <tr>\n",
              "      <th>0</th>\n",
              "      <td>261</td>\n",
              "      <td>2015-05-23 10:00:13</td>\n",
              "      <td>49.869556</td>\n",
              "      <td>-97.296739</td>\n",
              "      <td>16.22</td>\n",
              "      <td>2.79</td>\n",
              "      <td>NaN</td>\n",
              "      <td>NaN</td>\n",
              "      <td>NaN</td>\n",
              "      <td>False</td>\n",
              "      <td>...</td>\n",
              "      <td>NaN</td>\n",
              "      <td>NaN</td>\n",
              "      <td>NaN</td>\n",
              "      <td>NaN</td>\n",
              "      <td>NaN</td>\n",
              "      <td>NaN</td>\n",
              "      <td>NaN</td>\n",
              "      <td>Winnipeg</td>\n",
              "      <td>6020537.02</td>\n",
              "      <td>NaN</td>\n",
              "    </tr>\n",
              "    <tr>\n",
              "      <th>1</th>\n",
              "      <td>284</td>\n",
              "      <td>2015-05-20 10:01:05</td>\n",
              "      <td>49.852738</td>\n",
              "      <td>-97.270058</td>\n",
              "      <td>14.89</td>\n",
              "      <td>2.74</td>\n",
              "      <td>NaN</td>\n",
              "      <td>NaN</td>\n",
              "      <td>NaN</td>\n",
              "      <td>False</td>\n",
              "      <td>...</td>\n",
              "      <td>NaN</td>\n",
              "      <td>NaN</td>\n",
              "      <td>NaN</td>\n",
              "      <td>NaN</td>\n",
              "      <td>NaN</td>\n",
              "      <td>NaN</td>\n",
              "      <td>NaN</td>\n",
              "      <td>Winnipeg</td>\n",
              "      <td>6020522.02</td>\n",
              "      <td>NaN</td>\n",
              "    </tr>\n",
              "    <tr>\n",
              "      <th>2</th>\n",
              "      <td>622</td>\n",
              "      <td>2015-05-19 10:00:28</td>\n",
              "      <td>49.887575</td>\n",
              "      <td>-97.140091</td>\n",
              "      <td>9.89</td>\n",
              "      <td>5.64</td>\n",
              "      <td>NaN</td>\n",
              "      <td>NaN</td>\n",
              "      <td>NaN</td>\n",
              "      <td>False</td>\n",
              "      <td>...</td>\n",
              "      <td>NaN</td>\n",
              "      <td>NaN</td>\n",
              "      <td>NaN</td>\n",
              "      <td>NaN</td>\n",
              "      <td>NaN</td>\n",
              "      <td>NaN</td>\n",
              "      <td>NaN</td>\n",
              "      <td>Winnipeg</td>\n",
              "      <td>6020014.00</td>\n",
              "      <td>NaN</td>\n",
              "    </tr>\n",
              "    <tr>\n",
              "      <th>3</th>\n",
              "      <td>701</td>\n",
              "      <td>2015-05-24 10:00:08</td>\n",
              "      <td>49.814284</td>\n",
              "      <td>-97.160235</td>\n",
              "      <td>10.62</td>\n",
              "      <td>2.09</td>\n",
              "      <td>NaN</td>\n",
              "      <td>NaN</td>\n",
              "      <td>NaN</td>\n",
              "      <td>False</td>\n",
              "      <td>...</td>\n",
              "      <td>NaN</td>\n",
              "      <td>NaN</td>\n",
              "      <td>NaN</td>\n",
              "      <td>NaN</td>\n",
              "      <td>NaN</td>\n",
              "      <td>NaN</td>\n",
              "      <td>NaN</td>\n",
              "      <td>Winnipeg</td>\n",
              "      <td>6020501.02</td>\n",
              "      <td>NaN</td>\n",
              "    </tr>\n",
              "    <tr>\n",
              "      <th>4</th>\n",
              "      <td>707</td>\n",
              "      <td>2015-05-19 10:00:19</td>\n",
              "      <td>49.882706</td>\n",
              "      <td>-97.161829</td>\n",
              "      <td>9.89</td>\n",
              "      <td>2.60</td>\n",
              "      <td>NaN</td>\n",
              "      <td>NaN</td>\n",
              "      <td>NaN</td>\n",
              "      <td>False</td>\n",
              "      <td>...</td>\n",
              "      <td>NaN</td>\n",
              "      <td>NaN</td>\n",
              "      <td>NaN</td>\n",
              "      <td>NaN</td>\n",
              "      <td>NaN</td>\n",
              "      <td>NaN</td>\n",
              "      <td>NaN</td>\n",
              "      <td>Winnipeg</td>\n",
              "      <td>6020016.00</td>\n",
              "      <td>NaN</td>\n",
              "    </tr>\n",
              "    <tr>\n",
              "      <th>5</th>\n",
              "      <td>765</td>\n",
              "      <td>2015-05-19 10:00:21</td>\n",
              "      <td>49.897501</td>\n",
              "      <td>-97.136397</td>\n",
              "      <td>10.53</td>\n",
              "      <td>0.70</td>\n",
              "      <td>NaN</td>\n",
              "      <td>NaN</td>\n",
              "      <td>NaN</td>\n",
              "      <td>False</td>\n",
              "      <td>...</td>\n",
              "      <td>NaN</td>\n",
              "      <td>NaN</td>\n",
              "      <td>NaN</td>\n",
              "      <td>NaN</td>\n",
              "      <td>NaN</td>\n",
              "      <td>NaN</td>\n",
              "      <td>NaN</td>\n",
              "      <td>Winnipeg</td>\n",
              "      <td>6020024.00</td>\n",
              "      <td>NaN</td>\n",
              "    </tr>\n",
              "    <tr>\n",
              "      <th>6</th>\n",
              "      <td>831</td>\n",
              "      <td>2015-05-16 10:00:30</td>\n",
              "      <td>49.946880</td>\n",
              "      <td>-97.058317</td>\n",
              "      <td>5.79</td>\n",
              "      <td>0.56</td>\n",
              "      <td>NaN</td>\n",
              "      <td>NaN</td>\n",
              "      <td>NaN</td>\n",
              "      <td>False</td>\n",
              "      <td>...</td>\n",
              "      <td>NaN</td>\n",
              "      <td>NaN</td>\n",
              "      <td>NaN</td>\n",
              "      <td>NaN</td>\n",
              "      <td>NaN</td>\n",
              "      <td>NaN</td>\n",
              "      <td>NaN</td>\n",
              "      <td>Winnipeg</td>\n",
              "      <td>6020142.02</td>\n",
              "      <td>NaN</td>\n",
              "    </tr>\n",
              "    <tr>\n",
              "      <th>7</th>\n",
              "      <td>972</td>\n",
              "      <td>2015-05-16 10:00:33</td>\n",
              "      <td>49.878963</td>\n",
              "      <td>-97.158439</td>\n",
              "      <td>5.79</td>\n",
              "      <td>0.81</td>\n",
              "      <td>NaN</td>\n",
              "      <td>NaN</td>\n",
              "      <td>NaN</td>\n",
              "      <td>False</td>\n",
              "      <td>...</td>\n",
              "      <td>NaN</td>\n",
              "      <td>NaN</td>\n",
              "      <td>NaN</td>\n",
              "      <td>NaN</td>\n",
              "      <td>NaN</td>\n",
              "      <td>NaN</td>\n",
              "      <td>NaN</td>\n",
              "      <td>Winnipeg</td>\n",
              "      <td>6020015.00</td>\n",
              "      <td>NaN</td>\n",
              "    </tr>\n",
              "    <tr>\n",
              "      <th>8</th>\n",
              "      <td>1110</td>\n",
              "      <td>2015-05-19 10:00:23</td>\n",
              "      <td>49.846671</td>\n",
              "      <td>-97.257653</td>\n",
              "      <td>1.88</td>\n",
              "      <td>1.81</td>\n",
              "      <td>NaN</td>\n",
              "      <td>NaN</td>\n",
              "      <td>NaN</td>\n",
              "      <td>False</td>\n",
              "      <td>...</td>\n",
              "      <td>NaN</td>\n",
              "      <td>NaN</td>\n",
              "      <td>NaN</td>\n",
              "      <td>NaN</td>\n",
              "      <td>NaN</td>\n",
              "      <td>NaN</td>\n",
              "      <td>NaN</td>\n",
              "      <td>Winnipeg</td>\n",
              "      <td>6020522.02</td>\n",
              "      <td>NaN</td>\n",
              "    </tr>\n",
              "    <tr>\n",
              "      <th>9</th>\n",
              "      <td>1147</td>\n",
              "      <td>2015-05-20 10:01:16</td>\n",
              "      <td>49.937924</td>\n",
              "      <td>-97.118305</td>\n",
              "      <td>10.58</td>\n",
              "      <td>2.76</td>\n",
              "      <td>NaN</td>\n",
              "      <td>NaN</td>\n",
              "      <td>NaN</td>\n",
              "      <td>False</td>\n",
              "      <td>...</td>\n",
              "      <td>NaN</td>\n",
              "      <td>NaN</td>\n",
              "      <td>NaN</td>\n",
              "      <td>NaN</td>\n",
              "      <td>NaN</td>\n",
              "      <td>NaN</td>\n",
              "      <td>NaN</td>\n",
              "      <td>Winnipeg</td>\n",
              "      <td>6020551.00</td>\n",
              "      <td>NaN</td>\n",
              "    </tr>\n",
              "  </tbody>\n",
              "</table>\n",
              "<p>10 rows × 31 columns</p>\n",
              "</div>\n",
              "      <button class=\"colab-df-convert\" onclick=\"convertToInteractive('df-a44ffa74-caa0-4067-991f-cf9b47a2ba78')\"\n",
              "              title=\"Convert this dataframe to an interactive table.\"\n",
              "              style=\"display:none;\">\n",
              "        \n",
              "  <svg xmlns=\"http://www.w3.org/2000/svg\" height=\"24px\"viewBox=\"0 0 24 24\"\n",
              "       width=\"24px\">\n",
              "    <path d=\"M0 0h24v24H0V0z\" fill=\"none\"/>\n",
              "    <path d=\"M18.56 5.44l.94 2.06.94-2.06 2.06-.94-2.06-.94-.94-2.06-.94 2.06-2.06.94zm-11 1L8.5 8.5l.94-2.06 2.06-.94-2.06-.94L8.5 2.5l-.94 2.06-2.06.94zm10 10l.94 2.06.94-2.06 2.06-.94-2.06-.94-.94-2.06-.94 2.06-2.06.94z\"/><path d=\"M17.41 7.96l-1.37-1.37c-.4-.4-.92-.59-1.43-.59-.52 0-1.04.2-1.43.59L10.3 9.45l-7.72 7.72c-.78.78-.78 2.05 0 2.83L4 21.41c.39.39.9.59 1.41.59.51 0 1.02-.2 1.41-.59l7.78-7.78 2.81-2.81c.8-.78.8-2.07 0-2.86zM5.41 20L4 18.59l7.72-7.72 1.47 1.35L5.41 20z\"/>\n",
              "  </svg>\n",
              "      </button>\n",
              "      \n",
              "  <style>\n",
              "    .colab-df-container {\n",
              "      display:flex;\n",
              "      flex-wrap:wrap;\n",
              "      gap: 12px;\n",
              "    }\n",
              "\n",
              "    .colab-df-convert {\n",
              "      background-color: #E8F0FE;\n",
              "      border: none;\n",
              "      border-radius: 50%;\n",
              "      cursor: pointer;\n",
              "      display: none;\n",
              "      fill: #1967D2;\n",
              "      height: 32px;\n",
              "      padding: 0 0 0 0;\n",
              "      width: 32px;\n",
              "    }\n",
              "\n",
              "    .colab-df-convert:hover {\n",
              "      background-color: #E2EBFA;\n",
              "      box-shadow: 0px 1px 2px rgba(60, 64, 67, 0.3), 0px 1px 3px 1px rgba(60, 64, 67, 0.15);\n",
              "      fill: #174EA6;\n",
              "    }\n",
              "\n",
              "    [theme=dark] .colab-df-convert {\n",
              "      background-color: #3B4455;\n",
              "      fill: #D2E3FC;\n",
              "    }\n",
              "\n",
              "    [theme=dark] .colab-df-convert:hover {\n",
              "      background-color: #434B5C;\n",
              "      box-shadow: 0px 1px 3px 1px rgba(0, 0, 0, 0.15);\n",
              "      filter: drop-shadow(0px 1px 2px rgba(0, 0, 0, 0.3));\n",
              "      fill: #FFFFFF;\n",
              "    }\n",
              "  </style>\n",
              "\n",
              "      <script>\n",
              "        const buttonEl =\n",
              "          document.querySelector('#df-a44ffa74-caa0-4067-991f-cf9b47a2ba78 button.colab-df-convert');\n",
              "        buttonEl.style.display =\n",
              "          google.colab.kernel.accessAllowed ? 'block' : 'none';\n",
              "\n",
              "        async function convertToInteractive(key) {\n",
              "          const element = document.querySelector('#df-a44ffa74-caa0-4067-991f-cf9b47a2ba78');\n",
              "          const dataTable =\n",
              "            await google.colab.kernel.invokeFunction('convertToInteractive',\n",
              "                                                     [key], {});\n",
              "          if (!dataTable) return;\n",
              "\n",
              "          const docLinkHtml = 'Like what you see? Visit the ' +\n",
              "            '<a target=\"_blank\" href=https://colab.research.google.com/notebooks/data_table.ipynb>data table notebook</a>'\n",
              "            + ' to learn more about interactive tables.';\n",
              "          element.innerHTML = '';\n",
              "          dataTable['output_type'] = 'display_data';\n",
              "          await google.colab.output.renderOutput(dataTable, element);\n",
              "          const docLink = document.createElement('div');\n",
              "          docLink.innerHTML = docLinkHtml;\n",
              "          element.appendChild(docLink);\n",
              "        }\n",
              "      </script>\n",
              "    </div>\n",
              "  </div>\n",
              "  "
            ]
          },
          "metadata": {}
        }
      ]
    },
    {
      "cell_type": "markdown",
      "source": [
        "Confirming the number of rows and columns, respectively"
      ],
      "metadata": {
        "id": "IODo7dDwDeoU"
      }
    },
    {
      "cell_type": "code",
      "source": [
        "necoriginal.shape"
      ],
      "metadata": {
        "colab": {
          "base_uri": "https://localhost:8080/"
        },
        "id": "HgbG3QnzDlNB",
        "outputId": "2080e530-b05f-439f-ee45-0789c0de8237"
      },
      "execution_count": 23,
      "outputs": [
        {
          "output_type": "execute_result",
          "data": {
            "text/plain": [
              "(19928, 31)"
            ]
          },
          "metadata": {},
          "execution_count": 23
        }
      ]
    },
    {
      "cell_type": "markdown",
      "source": [
        "Having trouble locating/executing csv file in here. Checking to see the working directory"
      ],
      "metadata": {
        "id": "b5P4f8d2aZkr"
      }
    },
    {
      "cell_type": "code",
      "source": [
        "import os\n",
        "print(os.getcwd())"
      ],
      "metadata": {
        "colab": {
          "base_uri": "https://localhost:8080/"
        },
        "id": "zmBTM-7rZjzK",
        "outputId": "cdb04561-a896-4994-f657-e140827c1cf3"
      },
      "execution_count": null,
      "outputs": [
        {
          "output_type": "stream",
          "name": "stdout",
          "text": [
            "/content\n"
          ]
        }
      ]
    },
    {
      "cell_type": "markdown",
      "source": [
        "Checking for duplicates in the TEST ID column"
      ],
      "metadata": {
        "id": "wKb1PmM0ggkU"
      }
    },
    {
      "cell_type": "code",
      "source": [
        "# Count the number of duplicated TEST ID values\n",
        "num_duplicates = df.duplicated(subset='TEST ID', keep=False).sum()\n",
        "\n",
        "# Print the number of duplicates\n",
        "print(f\"There are {num_duplicates} rows with duplicated TEST ID values.\")"
      ],
      "metadata": {
        "colab": {
          "base_uri": "https://localhost:8080/"
        },
        "id": "ez24zJwZgaaP",
        "outputId": "1106f5fa-6710-4a24-e6e3-9aa09e19e26c"
      },
      "execution_count": 24,
      "outputs": [
        {
          "output_type": "stream",
          "name": "stdout",
          "text": [
            "There are 0 rows with duplicated TEST ID values.\n"
          ]
        }
      ]
    },
    {
      "cell_type": "markdown",
      "source": [
        "Checking to see how many missing cells in the CLIENT CITY column"
      ],
      "metadata": {
        "id": "quVa5ZyrvT2V"
      }
    },
    {
      "cell_type": "code",
      "source": [
        "df = pd.read_csv('https://raw.githubusercontent.com/ShanChartrand/NECDataCleaning/main/necoriginal.csv')\n",
        "\n",
        "missing_cells = df['CLIENT CITY'].isnull().sum()\n",
        "\n",
        "print(missing_cells)"
      ],
      "metadata": {
        "colab": {
          "base_uri": "https://localhost:8080/"
        },
        "id": "cqIyCwH4vKgX",
        "outputId": "177070b0-dc45-48cb-c115-68e6405c2ea5"
      },
      "execution_count": 25,
      "outputs": [
        {
          "output_type": "stream",
          "name": "stdout",
          "text": [
            "55\n"
          ]
        }
      ]
    },
    {
      "cell_type": "code",
      "source": [
        "import pandas as pd\n",
        "from geopy.geocoders import Nominatim\n",
        "\n",
        "# Load the CSV file into a Pandas DataFrame\n",
        "df = pd.read_csv('https://raw.githubusercontent.com/ShanChartrand/NECDataCleaning/main/necoriginal.csv')\n",
        "\n",
        "# Create a geolocator object\n",
        "geolocator = Nominatim(user_agent=\"my-app\")\n",
        "\n",
        "# Define a function to perform reverse geocoding and return the city name\n",
        "def reverse_geocode(lat, lon):\n",
        "    location = geolocator.reverse(f\"{lat}, {lon}\")\n",
        "    return location.raw['address']['city'] if 'city' in location.raw['address'] else None\n",
        "\n",
        "# Fill in missing CLIENT CITY values using reverse geocoding\n",
        "df['CLIENT CITY'] = df.apply(lambda row: reverse_geocode(row['GEO LATITUDE'], row['GEO LONGITUDE']) if pd.isnull(row['CLIENT CITY']) else row['CLIENT CITY'], axis=1)\n",
        "\n",
        "# Save the updated DataFrame to a new CSV file\n",
        "df.to_csv('https://raw.githubusercontent.com/ShanChartrand/NECDataCleaning/main/necoriginal.csv', index=False)\n",
        "\n",
        "#Confirming there are no missing values\n",
        "\n",
        "missing_cells = df['CLIENT CITY'].isnull().sum()\n",
        "\n",
        "print(missing_cells)\n"
      ],
      "metadata": {
        "colab": {
          "base_uri": "https://localhost:8080/"
        },
        "id": "UJ8bK_xhwaIx",
        "outputId": "0e7e333f-5fe9-49ad-8412-e77f35bca279"
      },
      "execution_count": 29,
      "outputs": [
        {
          "output_type": "stream",
          "name": "stdout",
          "text": [
            "0\n"
          ]
        }
      ]
    },
    {
      "cell_type": "markdown",
      "source": [
        "Looking for duplicate rows"
      ],
      "metadata": {
        "id": "CTa358_gyxKg"
      }
    },
    {
      "cell_type": "code",
      "source": [
        "# Find duplicate rows based on all columns\n",
        "duplicates = df[df.duplicated()]\n",
        "\n",
        "# Display the duplicate rows (if any)\n",
        "if len(duplicates) > 0:\n",
        "    print(f\"Found {len(duplicates)} duplicate rows:\")\n",
        "    print(duplicates)\n",
        "else:\n",
        "    print(\"No duplicate rows found.\")"
      ],
      "metadata": {
        "colab": {
          "base_uri": "https://localhost:8080/"
        },
        "id": "RBy34o8zyrO9",
        "outputId": "cbc0e72d-c3e7-41a3-f9dd-42f238bd77e3"
      },
      "execution_count": 30,
      "outputs": [
        {
          "output_type": "stream",
          "name": "stdout",
          "text": [
            "No duplicate rows found.\n"
          ]
        }
      ]
    }
  ]
}